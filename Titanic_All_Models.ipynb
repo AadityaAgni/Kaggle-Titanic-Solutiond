{
  "nbformat": 4,
  "nbformat_minor": 0,
  "metadata": {
    "colab": {
      "name": "Titanic All Models.ipynb",
      "provenance": [],
      "collapsed_sections": [
        "UQmjbign5CZQ",
        "KheAUt-Z5CZe",
        "NYCLOpRg5CZg",
        "qZMbnKfh5CZh",
        "Ikip6dYW5CZl",
        "AMHGkong5CZm",
        "awmWW6q75CZn",
        "dp00uDZ6_BJU"
      ]
    },
    "kernelspec": {
      "display_name": "Python 3",
      "language": "python",
      "name": "python3"
    },
    "language_info": {
      "codemirror_mode": {
        "name": "ipython",
        "version": 3
      },
      "file_extension": ".py",
      "mimetype": "text/x-python",
      "name": "python",
      "nbconvert_exporter": "python",
      "pygments_lexer": "ipython3",
      "version": "3.7.9"
    }
  },
  "cells": [
    {
      "cell_type": "markdown",
      "metadata": {
        "id": "UQmjbign5CZQ"
      },
      "source": [
        "# Importing Libraries"
      ]
    },
    {
      "cell_type": "code",
      "metadata": {
        "colab": {
          "base_uri": "https://localhost:8080/"
        },
        "id": "t3jD6sEtxSsW",
        "outputId": "d47a5f42-a9ae-44a9-b726-5c2266ab103e"
      },
      "source": [
        "!pip install catboost"
      ],
      "execution_count": null,
      "outputs": [
        {
          "output_type": "stream",
          "text": [
            "Collecting catboost\n",
            "\u001b[?25l  Downloading https://files.pythonhosted.org/packages/47/80/8e9c57ec32dfed6ba2922bc5c96462cbf8596ce1a6f5de532ad1e43e53fe/catboost-0.25.1-cp37-none-manylinux1_x86_64.whl (67.3MB)\n",
            "\u001b[K     |████████████████████████████████| 67.3MB 54kB/s \n",
            "\u001b[?25hRequirement already satisfied: graphviz in /usr/local/lib/python3.7/dist-packages (from catboost) (0.10.1)\n",
            "Requirement already satisfied: six in /usr/local/lib/python3.7/dist-packages (from catboost) (1.15.0)\n",
            "Requirement already satisfied: numpy>=1.16.0 in /usr/local/lib/python3.7/dist-packages (from catboost) (1.19.5)\n",
            "Requirement already satisfied: plotly in /usr/local/lib/python3.7/dist-packages (from catboost) (4.4.1)\n",
            "Requirement already satisfied: scipy in /usr/local/lib/python3.7/dist-packages (from catboost) (1.4.1)\n",
            "Requirement already satisfied: pandas>=0.24.0 in /usr/local/lib/python3.7/dist-packages (from catboost) (1.1.5)\n",
            "Requirement already satisfied: matplotlib in /usr/local/lib/python3.7/dist-packages (from catboost) (3.2.2)\n",
            "Requirement already satisfied: retrying>=1.3.3 in /usr/local/lib/python3.7/dist-packages (from plotly->catboost) (1.3.3)\n",
            "Requirement already satisfied: python-dateutil>=2.7.3 in /usr/local/lib/python3.7/dist-packages (from pandas>=0.24.0->catboost) (2.8.1)\n",
            "Requirement already satisfied: pytz>=2017.2 in /usr/local/lib/python3.7/dist-packages (from pandas>=0.24.0->catboost) (2018.9)\n",
            "Requirement already satisfied: kiwisolver>=1.0.1 in /usr/local/lib/python3.7/dist-packages (from matplotlib->catboost) (1.3.1)\n",
            "Requirement already satisfied: cycler>=0.10 in /usr/local/lib/python3.7/dist-packages (from matplotlib->catboost) (0.10.0)\n",
            "Requirement already satisfied: pyparsing!=2.0.4,!=2.1.2,!=2.1.6,>=2.0.1 in /usr/local/lib/python3.7/dist-packages (from matplotlib->catboost) (2.4.7)\n",
            "Installing collected packages: catboost\n",
            "Successfully installed catboost-0.25.1\n"
          ],
          "name": "stdout"
        }
      ]
    },
    {
      "cell_type": "code",
      "metadata": {
        "id": "ScaaRPRW5CZd"
      },
      "source": [
        "import numpy as np\n",
        "import matplotlib.pyplot as plt\n",
        "import pandas as pd"
      ],
      "execution_count": null,
      "outputs": []
    },
    {
      "cell_type": "markdown",
      "metadata": {
        "id": "KheAUt-Z5CZe"
      },
      "source": [
        "# Dataset Preprocessing"
      ]
    },
    {
      "cell_type": "markdown",
      "metadata": {
        "id": "77CAavbp5CZf"
      },
      "source": [
        "## Importing Training Set"
      ]
    },
    {
      "cell_type": "code",
      "metadata": {
        "colab": {
          "base_uri": "https://localhost:8080/"
        },
        "id": "KIN43sth5CZf",
        "outputId": "5fe8f820-6fd0-43f5-bce2-aa344df07594"
      },
      "source": [
        "from google.colab import drive\n",
        "drive.mount(\"/content/drive\")\n",
        "data = pd.read_csv(\"drive/MyDrive/Colab Notebooks/Programs/Kaggle/Titanic/train.csv\")\n",
        "data_test = pd.read_csv(\"drive/MyDrive/Colab Notebooks/Programs/Kaggle/Titanic/test.csv\")\n"
      ],
      "execution_count": null,
      "outputs": [
        {
          "output_type": "stream",
          "text": [
            "Mounted at /content/drive\n"
          ],
          "name": "stdout"
        }
      ]
    },
    {
      "cell_type": "code",
      "metadata": {
        "id": "LQHCNBLazZog"
      },
      "source": [
        "all_scores = {}"
      ],
      "execution_count": null,
      "outputs": []
    },
    {
      "cell_type": "markdown",
      "metadata": {
        "id": "NYCLOpRg5CZg"
      },
      "source": [
        "## Splitting X and Y variables"
      ]
    },
    {
      "cell_type": "code",
      "metadata": {
        "colab": {
          "base_uri": "https://localhost:8080/"
        },
        "id": "mvA_StTo5CZg",
        "outputId": "d04f4903-f746-4540-e579-6fb3877593cf"
      },
      "source": [
        "\n",
        "X = data.iloc[:, [2,4,5,6,7]].values\n",
        "y = data.iloc[:, 1].values\n",
        "X"
      ],
      "execution_count": null,
      "outputs": [
        {
          "output_type": "execute_result",
          "data": {
            "text/plain": [
              "array([[3, 'male', 22.0, 1, 0],\n",
              "       [1, 'female', 38.0, 1, 0],\n",
              "       [3, 'female', 26.0, 0, 0],\n",
              "       ...,\n",
              "       [3, 'female', nan, 1, 2],\n",
              "       [1, 'male', 26.0, 0, 0],\n",
              "       [3, 'male', 32.0, 0, 0]], dtype=object)"
            ]
          },
          "metadata": {
            "tags": []
          },
          "execution_count": 5
        }
      ]
    },
    {
      "cell_type": "code",
      "metadata": {
        "id": "4c0FbM3g5CZg"
      },
      "source": [
        "# Creating prediction data of the same structure as the training set\n",
        "X_test = data_test.iloc[:, [1,3,4,5,6]].values\n"
      ],
      "execution_count": null,
      "outputs": []
    },
    {
      "cell_type": "markdown",
      "metadata": {
        "id": "qZMbnKfh5CZh"
      },
      "source": [
        "## Encoding Categorical Data"
      ]
    },
    {
      "cell_type": "code",
      "metadata": {
        "id": "8ySjDJUE5CZh"
      },
      "source": [
        "# Encoding Gender\n",
        "from sklearn.preprocessing import LabelEncoder\n",
        "label_encoder = LabelEncoder()\n",
        "label_encoder.fit(X[:, 1])\n",
        "X[:, 1] = label_encoder.transform(X[:, 1])"
      ],
      "execution_count": null,
      "outputs": []
    },
    {
      "cell_type": "code",
      "metadata": {
        "id": "90ysWmBx5CZj"
      },
      "source": [
        "X_test[:, 1] = label_encoder.transform(X_test[:, 1])"
      ],
      "execution_count": null,
      "outputs": []
    },
    {
      "cell_type": "code",
      "metadata": {
        "colab": {
          "base_uri": "https://localhost:8080/"
        },
        "id": "h64WLKNO5CZk",
        "outputId": "bf5309f1-3395-4c97-f4ee-bc073ac4a9ec"
      },
      "source": [
        "print(X)\n",
        "print(X_test)"
      ],
      "execution_count": null,
      "outputs": [
        {
          "output_type": "stream",
          "text": [
            "[[3 1 22.0 1 0]\n",
            " [1 0 38.0 1 0]\n",
            " [3 0 26.0 0 0]\n",
            " ...\n",
            " [3 0 nan 1 2]\n",
            " [1 1 26.0 0 0]\n",
            " [3 1 32.0 0 0]]\n",
            "[[3 1 34.5 0 0]\n",
            " [3 0 47.0 1 0]\n",
            " [2 1 62.0 0 0]\n",
            " ...\n",
            " [3 1 38.5 0 0]\n",
            " [3 1 nan 0 0]\n",
            " [3 1 nan 1 1]]\n"
          ],
          "name": "stdout"
        }
      ]
    },
    {
      "cell_type": "markdown",
      "metadata": {
        "id": "Ikip6dYW5CZl"
      },
      "source": [
        "## Taking Care of Missing Data"
      ]
    },
    {
      "cell_type": "code",
      "metadata": {
        "id": "Sd6wrufN5CZl"
      },
      "source": [
        "from sklearn.impute import SimpleImputer\n",
        "imputer = SimpleImputer(missing_values=np.nan, strategy='mean')\n",
        "imputer.fit(X[:, [2]])\n",
        "X[:, [2]]= imputer.transform(X[:, [2]])"
      ],
      "execution_count": null,
      "outputs": []
    },
    {
      "cell_type": "code",
      "metadata": {
        "id": "Mxs8ryni5CZm"
      },
      "source": [
        "X_test[:, [2]] = imputer.transform(X_test[:, [2]])"
      ],
      "execution_count": null,
      "outputs": []
    },
    {
      "cell_type": "markdown",
      "metadata": {
        "id": "AMHGkong5CZm"
      },
      "source": [
        "## Feature Scaling"
      ]
    },
    {
      "cell_type": "code",
      "metadata": {
        "id": "r0kbXECL5CZm"
      },
      "source": [
        "from sklearn.preprocessing import StandardScaler\n",
        "sc = StandardScaler()\n",
        "X= sc.fit_transform(X)\n",
        "X_test = sc.transform(X_test)"
      ],
      "execution_count": null,
      "outputs": []
    },
    {
      "cell_type": "markdown",
      "metadata": {
        "id": "awmWW6q75CZn"
      },
      "source": [
        "## Splitting into Training and Validation Set"
      ]
    },
    {
      "cell_type": "code",
      "metadata": {
        "id": "erYCdwMX5CZn"
      },
      "source": [
        "from sklearn.model_selection import train_test_split\n",
        "X_train, X_val, y_train, y_val = train_test_split(X, y, test_size = 0.1)"
      ],
      "execution_count": null,
      "outputs": []
    },
    {
      "cell_type": "markdown",
      "metadata": {
        "id": "KzeSHHUp-acx"
      },
      "source": [
        "# Random Forest\n"
      ]
    },
    {
      "cell_type": "markdown",
      "metadata": {
        "id": "G6WbsiPS5CZo"
      },
      "source": [
        "## Creating Random Forest Model"
      ]
    },
    {
      "cell_type": "code",
      "metadata": {
        "id": "TnBw5ffW5CZo"
      },
      "source": [
        "from sklearn.ensemble import RandomForestClassifier"
      ],
      "execution_count": null,
      "outputs": []
    },
    {
      "cell_type": "code",
      "metadata": {
        "colab": {
          "base_uri": "https://localhost:8080/"
        },
        "id": "yA5_TXbf5CZo",
        "outputId": "a7518cfc-d113-4588-aa11-d247f9b0da2e"
      },
      "source": [
        "RFClassifier = RandomForestClassifier(n_estimators = 10, criterion = 'entropy', random_state = 0)\n",
        "RFClassifier.fit(X_train, y_train)"
      ],
      "execution_count": null,
      "outputs": [
        {
          "output_type": "execute_result",
          "data": {
            "text/plain": [
              "RandomForestClassifier(bootstrap=True, ccp_alpha=0.0, class_weight=None,\n",
              "                       criterion='entropy', max_depth=None, max_features='auto',\n",
              "                       max_leaf_nodes=None, max_samples=None,\n",
              "                       min_impurity_decrease=0.0, min_impurity_split=None,\n",
              "                       min_samples_leaf=1, min_samples_split=2,\n",
              "                       min_weight_fraction_leaf=0.0, n_estimators=10,\n",
              "                       n_jobs=None, oob_score=False, random_state=0, verbose=0,\n",
              "                       warm_start=False)"
            ]
          },
          "metadata": {
            "tags": []
          },
          "execution_count": 15
        }
      ]
    },
    {
      "cell_type": "markdown",
      "metadata": {
        "id": "BJd4zsQY5CZp"
      },
      "source": [
        "## Testing Random Forest Model on Validation Set"
      ]
    },
    {
      "cell_type": "code",
      "metadata": {
        "id": "RVOZYNT25CZp"
      },
      "source": [
        "val_pred_RF = RFClassifier.predict(X_val)"
      ],
      "execution_count": null,
      "outputs": []
    },
    {
      "cell_type": "code",
      "metadata": {
        "colab": {
          "base_uri": "https://localhost:8080/"
        },
        "id": "II3pARvO5CZq",
        "outputId": "7cb096a9-ad4b-4485-e8fc-3881d655c51d"
      },
      "source": [
        "from sklearn.metrics import confusion_matrix, accuracy_score\n",
        "from sklearn.model_selection import cross_val_score\n",
        "cm = confusion_matrix(y_val, val_pred_RF)\n",
        "accuracy = accuracy_score(y_val, val_pred_RF)\n",
        "\n",
        "cross_val_accuracies = cross_val_score(RFClassifier, X_val, y_val, cv = 10, n_jobs = -1)\n",
        "\n",
        "print(cm)\n",
        "print(\"Accuracy(Regular): {:.2f}\".format(accuracy*100))\n",
        "print(\"Accuracy(Cross Validation): {:.2f}%\".format(cross_val_accuracies.mean()*100))\n",
        "print(\"Standard Deviation: {:.2f}%\".format(cross_val_accuracies.std()*100))\n",
        "\n",
        "all_scores[\"Random Forest\"] = cross_val_accuracies.mean()-cross_val_accuracies.std()"
      ],
      "execution_count": null,
      "outputs": [
        {
          "output_type": "stream",
          "text": [
            "[[53 10]\n",
            " [13 14]]\n",
            "Accuracy(Regular): 74.44\n",
            "Accuracy(Cross Validation): 77.78%\n",
            "Standard Deviation: 12.17%\n"
          ],
          "name": "stdout"
        }
      ]
    },
    {
      "cell_type": "markdown",
      "metadata": {
        "id": "d-ZRyHUoBSUb"
      },
      "source": [
        "# Decision Tree"
      ]
    },
    {
      "cell_type": "markdown",
      "metadata": {
        "id": "eZnPYGLqBX0P"
      },
      "source": [
        "## Creating Decision Tree Model"
      ]
    },
    {
      "cell_type": "code",
      "metadata": {
        "colab": {
          "base_uri": "https://localhost:8080/"
        },
        "id": "5IV2C5T2BPQ1",
        "outputId": "0cd35c40-1b78-4892-b2dd-48d58590508c"
      },
      "source": [
        "from sklearn.tree import DecisionTreeClassifier\n",
        "DT_Classifier = DecisionTreeClassifier(criterion = 'entropy', random_state = 0)\n",
        "DT_Classifier.fit(X_train, y_train)"
      ],
      "execution_count": null,
      "outputs": [
        {
          "output_type": "execute_result",
          "data": {
            "text/plain": [
              "DecisionTreeClassifier(ccp_alpha=0.0, class_weight=None, criterion='entropy',\n",
              "                       max_depth=None, max_features=None, max_leaf_nodes=None,\n",
              "                       min_impurity_decrease=0.0, min_impurity_split=None,\n",
              "                       min_samples_leaf=1, min_samples_split=2,\n",
              "                       min_weight_fraction_leaf=0.0, presort='deprecated',\n",
              "                       random_state=0, splitter='best')"
            ]
          },
          "metadata": {
            "tags": []
          },
          "execution_count": 18
        }
      ]
    },
    {
      "cell_type": "code",
      "metadata": {
        "colab": {
          "base_uri": "https://localhost:8080/"
        },
        "id": "hUQmx2bRBzw0",
        "outputId": "6a6750f9-e567-4047-9577-b58a2f4a0942"
      },
      "source": [
        "cross_val_accuracies = cross_val_score(DT_Classifier, X_train, y_train, cv = 10, n_jobs = -1)\n",
        "\n",
        "print(\"Accuracy(Cross Validation): {:.2f}%\".format(cross_val_accuracies.mean()*100))\n",
        "print(\"Standard Deviation: {:.2f}%\".format(cross_val_accuracies.std()*100))"
      ],
      "execution_count": null,
      "outputs": [
        {
          "output_type": "stream",
          "text": [
            "Accuracy(Cross Validation): 80.40%\n",
            "Standard Deviation: 2.92%\n"
          ],
          "name": "stdout"
        }
      ]
    },
    {
      "cell_type": "markdown",
      "metadata": {
        "id": "Uvjjvw4xBcAK"
      },
      "source": [
        "## Testing on Validation Set"
      ]
    },
    {
      "cell_type": "code",
      "metadata": {
        "id": "p96aDbwRCj8U"
      },
      "source": [
        "val_pred_DT = DT_Classifier.predict(X_val)"
      ],
      "execution_count": null,
      "outputs": []
    },
    {
      "cell_type": "code",
      "metadata": {
        "colab": {
          "base_uri": "https://localhost:8080/"
        },
        "id": "EQ8G8Hm0CeGe",
        "outputId": "1fc61a4d-d5e1-4a60-8c09-0a2f53e097c5"
      },
      "source": [
        "cm = confusion_matrix(y_val, val_pred_DT)\n",
        "accuracy = accuracy_score(y_val, val_pred_DT)\n",
        "\n",
        "cross_val_accuracies = cross_val_score(DT_Classifier, X_val, y_val, cv = 10, n_jobs = -1)\n",
        "\n",
        "print(cm)\n",
        "print(\"Accuracy(Regular): {:.2f}\".format(accuracy*100))\n",
        "print(\"Accuracy(Cross Validation): {:.2f}%\".format(cross_val_accuracies.mean()*100))\n",
        "print(\"Standard Deviation: {:.2f}%\".format(cross_val_accuracies.std()*100))\n",
        "\n",
        "\n",
        "all_scores[\"Decision Tree\"] = cross_val_accuracies.mean()-cross_val_accuracies.std()"
      ],
      "execution_count": null,
      "outputs": [
        {
          "output_type": "stream",
          "text": [
            "[[53 10]\n",
            " [13 14]]\n",
            "Accuracy(Regular): 74.44\n",
            "Accuracy(Cross Validation): 75.56%\n",
            "Standard Deviation: 10.89%\n"
          ],
          "name": "stdout"
        }
      ]
    },
    {
      "cell_type": "markdown",
      "metadata": {
        "id": "QqH0uovN5CZu"
      },
      "source": [
        "# XGBoost"
      ]
    },
    {
      "cell_type": "markdown",
      "metadata": {
        "id": "KukzE6QI--BZ"
      },
      "source": [
        "## Creating XGBoost Model"
      ]
    },
    {
      "cell_type": "code",
      "metadata": {
        "id": "21CPTu4f5CZv",
        "colab": {
          "base_uri": "https://localhost:8080/"
        },
        "outputId": "aea580b2-fc67-41ab-e078-b9352ea380d9"
      },
      "source": [
        "from xgboost import XGBClassifier\n",
        "XGB_Classifier = XGBClassifier()\n",
        "XGB_Classifier.fit(X_train, y_train)"
      ],
      "execution_count": null,
      "outputs": [
        {
          "output_type": "execute_result",
          "data": {
            "text/plain": [
              "XGBClassifier(base_score=0.5, booster='gbtree', colsample_bylevel=1,\n",
              "              colsample_bynode=1, colsample_bytree=1, gamma=0,\n",
              "              learning_rate=0.1, max_delta_step=0, max_depth=3,\n",
              "              min_child_weight=1, missing=None, n_estimators=100, n_jobs=1,\n",
              "              nthread=None, objective='binary:logistic', random_state=0,\n",
              "              reg_alpha=0, reg_lambda=1, scale_pos_weight=1, seed=None,\n",
              "              silent=None, subsample=1, verbosity=1)"
            ]
          },
          "metadata": {
            "tags": []
          },
          "execution_count": 38
        }
      ]
    },
    {
      "cell_type": "code",
      "metadata": {
        "colab": {
          "base_uri": "https://localhost:8080/"
        },
        "id": "MQgYySxWfkI_",
        "outputId": "e881feac-283b-484b-9b0b-39615561dcde"
      },
      "source": [
        "XGB_Classifier = XGBClassifier(gamma = 1, learning_rate = 0.5, max_depth = 4, n_estimators = 120, n_jobs = -1)\n",
        "XGB_Classifier.fit(X_train, y_train)"
      ],
      "execution_count": null,
      "outputs": [
        {
          "output_type": "execute_result",
          "data": {
            "text/plain": [
              "XGBClassifier(base_score=0.5, booster='gbtree', colsample_bylevel=1,\n",
              "              colsample_bynode=1, colsample_bytree=1, gamma=1,\n",
              "              learning_rate=0.5, max_delta_step=0, max_depth=4,\n",
              "              min_child_weight=1, missing=None, n_estimators=120, n_jobs=-1,\n",
              "              nthread=None, objective='binary:logistic', random_state=0,\n",
              "              reg_alpha=0, reg_lambda=1, scale_pos_weight=1, seed=None,\n",
              "              silent=None, subsample=1, verbosity=1)"
            ]
          },
          "metadata": {
            "tags": []
          },
          "execution_count": 39
        }
      ]
    },
    {
      "cell_type": "markdown",
      "metadata": {
        "id": "oweNtvAP6iF7"
      },
      "source": [
        "### Testing Model on Validation Set"
      ]
    },
    {
      "cell_type": "code",
      "metadata": {
        "id": "3pQgB3qygRpx"
      },
      "source": [
        "val_pred_XGB = XGB_Classifier.predict(X_val)"
      ],
      "execution_count": null,
      "outputs": []
    },
    {
      "cell_type": "code",
      "metadata": {
        "colab": {
          "base_uri": "https://localhost:8080/"
        },
        "id": "QDMe8Zek6K5K",
        "outputId": "524ee90c-8d29-4e85-b3c4-d491fd5b0a39"
      },
      "source": [
        "accuracy = accuracy_score(y_val, val_pred_XGB)\n",
        "\n",
        "cross_val_accuracies = cross_val_score(XGB_Classifier, X_val, y_val, cv = 10, n_jobs = -1)\n",
        "\n",
        "print(\"Accuracy(Regular): {:.2f}\".format(accuracy*100))\n",
        "print(\"Accuracy(Cross Validation): {:.2f}%\".format(cross_val_accuracies.mean()*100))\n",
        "print(\"Standard Deviation: {:.2f}%\".format(cross_val_accuracies.std()*100))\n",
        "\n",
        "all_scores[\"XGBClassifier\"] = cross_val_accuracies.mean()-cross_val_accuracies.std()"
      ],
      "execution_count": null,
      "outputs": [
        {
          "output_type": "stream",
          "text": [
            "Accuracy(Regular): 81.11\n",
            "Accuracy(Cross Validation): 77.78%\n",
            "Standard Deviation: 13.15%\n"
          ],
          "name": "stdout"
        }
      ]
    },
    {
      "cell_type": "markdown",
      "metadata": {
        "id": "dp00uDZ6_BJU"
      },
      "source": [
        "## Creating XGBRFClassifier Model"
      ]
    },
    {
      "cell_type": "code",
      "metadata": {
        "id": "yYFXhWKF-Rgu"
      },
      "source": [
        "from xgboost import XGBRFClassifier\n",
        "XGBRF_Classifier = XGBRFClassifier()"
      ],
      "execution_count": null,
      "outputs": []
    },
    {
      "cell_type": "code",
      "metadata": {
        "colab": {
          "base_uri": "https://localhost:8080/"
        },
        "id": "sW1LKoPT_Y9h",
        "outputId": "b0c62f7f-7c2d-4e14-85f7-7f534f9ab4f0"
      },
      "source": [
        "XGBRF_Classifier.fit(X_train, y_train)"
      ],
      "execution_count": null,
      "outputs": [
        {
          "output_type": "execute_result",
          "data": {
            "text/plain": [
              "XGBRFClassifier(base_score=0.5, colsample_bylevel=1, colsample_bynode=0.8,\n",
              "                colsample_bytree=1, gamma=0, learning_rate=1, max_delta_step=0,\n",
              "                max_depth=3, min_child_weight=1, missing=None, n_estimators=100,\n",
              "                n_jobs=1, nthread=None, objective='binary:logistic',\n",
              "                random_state=0, reg_alpha=0, reg_lambda=1, scale_pos_weight=1,\n",
              "                seed=None, silent=None, subsample=0.8, verbosity=1)"
            ]
          },
          "metadata": {
            "tags": []
          },
          "execution_count": 43
        }
      ]
    },
    {
      "cell_type": "code",
      "metadata": {
        "colab": {
          "base_uri": "https://localhost:8080/"
        },
        "id": "NElZ1LHjAhox",
        "outputId": "212eda57-d63d-4a8c-9ebc-4f08d3d2eab4"
      },
      "source": [
        "cross_val_accuracies = cross_val_score(XGBRF_Classifier, X_train, y_train, cv = 10, n_jobs = -1)\n",
        "\n",
        "print(\"Accuracy(Cross Validation): {:.2f}%\".format(cross_val_accuracies.mean()*100))\n",
        "print(\"Standard Deviation: {:.2f}%\".format(cross_val_accuracies.std()*100))\n",
        "\n",
        "all_scores[\"XGBClassifier\"] = cross_val_accuracies.mean()-cross_val_accuracies.std()"
      ],
      "execution_count": null,
      "outputs": [
        {
          "output_type": "stream",
          "text": [
            "Accuracy(Cross Validation): 80.91%\n",
            "Standard Deviation: 4.03%\n"
          ],
          "name": "stdout"
        }
      ]
    },
    {
      "cell_type": "markdown",
      "metadata": {
        "id": "aS-hf7E3_evB"
      },
      "source": [
        "### Testing XGBRFClassifier on Validation Set\n"
      ]
    },
    {
      "cell_type": "code",
      "metadata": {
        "id": "rUYlA8lT_udh"
      },
      "source": [
        "val_pred_XGBRF = XGBRF_Classifier.predict(X_val)"
      ],
      "execution_count": null,
      "outputs": []
    },
    {
      "cell_type": "code",
      "metadata": {
        "colab": {
          "base_uri": "https://localhost:8080/"
        },
        "id": "ism9Tg5MAFrB",
        "outputId": "ea6693f4-af25-4d25-9df4-bb5a713ca43e"
      },
      "source": [
        "# XGBRFClassifier\n",
        "cm = confusion_matrix(y_val, val_pred_XGBRF)\n",
        "accuracy = accuracy_score(y_val, val_pred_XGBRF)\n",
        "\n",
        "cross_val_accuracies = cross_val_score(XGBRF_Classifier, X_val, y_val, cv = 10, n_jobs = -1)\n",
        "\n",
        "print(cm)\n",
        "print(\"Accuracy(Regular): {:.2f}\".format(accuracy*100))\n",
        "print(\"Accuracy(Cross Validation): {:.2f}%\".format(cross_val_accuracies.mean()*100))\n",
        "print(\"Standard Deviation: {:.2f}%\".format(cross_val_accuracies.std()*100))\n",
        "\n",
        "all_scores[\"XGBRFClassifier\"] = cross_val_accuracies.mean()-cross_val_accuracies.std()"
      ],
      "execution_count": null,
      "outputs": [
        {
          "output_type": "stream",
          "text": [
            "[[55  8]\n",
            " [11 16]]\n",
            "Accuracy(Regular): 78.89\n",
            "Accuracy(Cross Validation): 77.78%\n",
            "Standard Deviation: 12.17%\n"
          ],
          "name": "stdout"
        }
      ]
    },
    {
      "cell_type": "markdown",
      "metadata": {
        "id": "ItOS1ehuxu4o"
      },
      "source": [
        "# CatBoost\n"
      ]
    },
    {
      "cell_type": "markdown",
      "metadata": {
        "id": "BWa74om_x0do"
      },
      "source": [
        "## Creating the Model"
      ]
    },
    {
      "cell_type": "code",
      "metadata": {
        "colab": {
          "base_uri": "https://localhost:8080/"
        },
        "id": "4Xgv4ZfMx0G2",
        "outputId": "36ca9b03-c9bc-41ea-df75-db7f4f7e110a"
      },
      "source": [
        "from catboost import CatBoostClassifier\n",
        "CB_Classifier = CatBoostClassifier()\n",
        "classifier = CatBoostClassifier(learning_rate = 0.5)\n",
        "CB_Classifier.fit(X_train, y_train)"
      ],
      "execution_count": null,
      "outputs": [
        {
          "output_type": "stream",
          "text": [
            "Learning rate set to 0.009371\n",
            "0:\tlearn: 0.6895108\ttotal: 645us\tremaining: 645ms\n",
            "1:\tlearn: 0.6830046\ttotal: 1.8ms\tremaining: 897ms\n",
            "2:\tlearn: 0.6769441\ttotal: 2.91ms\tremaining: 969ms\n",
            "3:\tlearn: 0.6712165\ttotal: 4.05ms\tremaining: 1.01s\n",
            "4:\tlearn: 0.6662332\ttotal: 4.98ms\tremaining: 992ms\n",
            "5:\tlearn: 0.6614360\ttotal: 5.85ms\tremaining: 970ms\n",
            "6:\tlearn: 0.6557063\ttotal: 6.98ms\tremaining: 990ms\n",
            "7:\tlearn: 0.6509770\ttotal: 8.01ms\tremaining: 994ms\n",
            "8:\tlearn: 0.6460224\ttotal: 9.14ms\tremaining: 1.01s\n",
            "9:\tlearn: 0.6406902\ttotal: 10.2ms\tremaining: 1.01s\n",
            "10:\tlearn: 0.6364175\ttotal: 11.2ms\tremaining: 1s\n",
            "11:\tlearn: 0.6332162\ttotal: 12ms\tremaining: 990ms\n",
            "12:\tlearn: 0.6289389\ttotal: 12.9ms\tremaining: 979ms\n",
            "13:\tlearn: 0.6242186\ttotal: 13.9ms\tremaining: 980ms\n",
            "14:\tlearn: 0.6202557\ttotal: 14.8ms\tremaining: 972ms\n",
            "15:\tlearn: 0.6166470\ttotal: 15.6ms\tremaining: 961ms\n",
            "16:\tlearn: 0.6141495\ttotal: 16.4ms\tremaining: 946ms\n",
            "17:\tlearn: 0.6100964\ttotal: 17.5ms\tremaining: 952ms\n",
            "18:\tlearn: 0.6060077\ttotal: 18.4ms\tremaining: 949ms\n",
            "19:\tlearn: 0.6017577\ttotal: 19.4ms\tremaining: 953ms\n",
            "20:\tlearn: 0.5970104\ttotal: 20.5ms\tremaining: 955ms\n",
            "21:\tlearn: 0.5929075\ttotal: 21.5ms\tremaining: 957ms\n",
            "22:\tlearn: 0.5894490\ttotal: 22.6ms\tremaining: 960ms\n",
            "23:\tlearn: 0.5859518\ttotal: 23.5ms\tremaining: 957ms\n",
            "24:\tlearn: 0.5817081\ttotal: 24.8ms\tremaining: 967ms\n",
            "25:\tlearn: 0.5777471\ttotal: 25.9ms\tremaining: 969ms\n",
            "26:\tlearn: 0.5738706\ttotal: 26.9ms\tremaining: 969ms\n",
            "27:\tlearn: 0.5716646\ttotal: 27.7ms\tremaining: 963ms\n",
            "28:\tlearn: 0.5697898\ttotal: 28.5ms\tremaining: 954ms\n",
            "29:\tlearn: 0.5665901\ttotal: 29.5ms\tremaining: 955ms\n",
            "30:\tlearn: 0.5627486\ttotal: 30.6ms\tremaining: 956ms\n",
            "31:\tlearn: 0.5610003\ttotal: 31.3ms\tremaining: 947ms\n",
            "32:\tlearn: 0.5592875\ttotal: 32ms\tremaining: 938ms\n",
            "33:\tlearn: 0.5560531\ttotal: 33.1ms\tremaining: 939ms\n",
            "34:\tlearn: 0.5524168\ttotal: 34.3ms\tremaining: 947ms\n",
            "35:\tlearn: 0.5506501\ttotal: 35.2ms\tremaining: 943ms\n",
            "36:\tlearn: 0.5470228\ttotal: 36.3ms\tremaining: 944ms\n",
            "37:\tlearn: 0.5446218\ttotal: 37.1ms\tremaining: 939ms\n",
            "38:\tlearn: 0.5412924\ttotal: 38.2ms\tremaining: 940ms\n",
            "39:\tlearn: 0.5382352\ttotal: 39.2ms\tremaining: 941ms\n",
            "40:\tlearn: 0.5360186\ttotal: 40.1ms\tremaining: 937ms\n",
            "41:\tlearn: 0.5346289\ttotal: 40.9ms\tremaining: 933ms\n",
            "42:\tlearn: 0.5332673\ttotal: 41.6ms\tremaining: 927ms\n",
            "43:\tlearn: 0.5305752\ttotal: 42.7ms\tremaining: 929ms\n",
            "44:\tlearn: 0.5277529\ttotal: 43.8ms\tremaining: 929ms\n",
            "45:\tlearn: 0.5264833\ttotal: 44.6ms\tremaining: 924ms\n",
            "46:\tlearn: 0.5238478\ttotal: 45.7ms\tremaining: 926ms\n",
            "47:\tlearn: 0.5212667\ttotal: 46.7ms\tremaining: 926ms\n",
            "48:\tlearn: 0.5189097\ttotal: 47.7ms\tremaining: 926ms\n",
            "49:\tlearn: 0.5177525\ttotal: 48.5ms\tremaining: 921ms\n",
            "50:\tlearn: 0.5159044\ttotal: 49.3ms\tremaining: 918ms\n",
            "51:\tlearn: 0.5130810\ttotal: 50.4ms\tremaining: 918ms\n",
            "52:\tlearn: 0.5105241\ttotal: 51.5ms\tremaining: 920ms\n",
            "53:\tlearn: 0.5080496\ttotal: 52.5ms\tremaining: 920ms\n",
            "54:\tlearn: 0.5056686\ttotal: 53.6ms\tremaining: 921ms\n",
            "55:\tlearn: 0.5037655\ttotal: 54.6ms\tremaining: 920ms\n",
            "56:\tlearn: 0.5019098\ttotal: 55.6ms\tremaining: 921ms\n",
            "57:\tlearn: 0.5009539\ttotal: 56.4ms\tremaining: 917ms\n",
            "58:\tlearn: 0.4990924\ttotal: 57.4ms\tremaining: 916ms\n",
            "59:\tlearn: 0.4970079\ttotal: 58.5ms\tremaining: 916ms\n",
            "60:\tlearn: 0.4947820\ttotal: 59.6ms\tremaining: 917ms\n",
            "61:\tlearn: 0.4924509\ttotal: 60.6ms\tremaining: 917ms\n",
            "62:\tlearn: 0.4915998\ttotal: 61.4ms\tremaining: 913ms\n",
            "63:\tlearn: 0.4899735\ttotal: 62.4ms\tremaining: 913ms\n",
            "64:\tlearn: 0.4881736\ttotal: 63.5ms\tremaining: 913ms\n",
            "65:\tlearn: 0.4861146\ttotal: 64.5ms\tremaining: 913ms\n",
            "66:\tlearn: 0.4841244\ttotal: 65.6ms\tremaining: 914ms\n",
            "67:\tlearn: 0.4831887\ttotal: 66.5ms\tremaining: 911ms\n",
            "68:\tlearn: 0.4819339\ttotal: 67.3ms\tremaining: 909ms\n",
            "69:\tlearn: 0.4802765\ttotal: 68.5ms\tremaining: 910ms\n",
            "70:\tlearn: 0.4784074\ttotal: 69.5ms\tremaining: 910ms\n",
            "71:\tlearn: 0.4764760\ttotal: 70.7ms\tremaining: 911ms\n",
            "72:\tlearn: 0.4752273\ttotal: 71.7ms\tremaining: 910ms\n",
            "73:\tlearn: 0.4745657\ttotal: 72.5ms\tremaining: 907ms\n",
            "74:\tlearn: 0.4731099\ttotal: 73.5ms\tremaining: 907ms\n",
            "75:\tlearn: 0.4724768\ttotal: 74.4ms\tremaining: 904ms\n",
            "76:\tlearn: 0.4708321\ttotal: 75.5ms\tremaining: 905ms\n",
            "77:\tlearn: 0.4692064\ttotal: 76.6ms\tremaining: 905ms\n",
            "78:\tlearn: 0.4675716\ttotal: 77.7ms\tremaining: 906ms\n",
            "79:\tlearn: 0.4662412\ttotal: 78.9ms\tremaining: 907ms\n",
            "80:\tlearn: 0.4649774\ttotal: 79.9ms\tremaining: 906ms\n",
            "81:\tlearn: 0.4636024\ttotal: 81ms\tremaining: 907ms\n",
            "82:\tlearn: 0.4625784\ttotal: 81.9ms\tremaining: 905ms\n",
            "83:\tlearn: 0.4614320\ttotal: 83.1ms\tremaining: 906ms\n",
            "84:\tlearn: 0.4608975\ttotal: 83.9ms\tremaining: 903ms\n",
            "85:\tlearn: 0.4600716\ttotal: 84.8ms\tremaining: 901ms\n",
            "86:\tlearn: 0.4585298\ttotal: 85.8ms\tremaining: 901ms\n",
            "87:\tlearn: 0.4572505\ttotal: 86.9ms\tremaining: 901ms\n",
            "88:\tlearn: 0.4558911\ttotal: 87.9ms\tremaining: 900ms\n",
            "89:\tlearn: 0.4550663\ttotal: 88.7ms\tremaining: 897ms\n",
            "90:\tlearn: 0.4546147\ttotal: 89.5ms\tremaining: 894ms\n",
            "91:\tlearn: 0.4532477\ttotal: 90.6ms\tremaining: 894ms\n",
            "92:\tlearn: 0.4518274\ttotal: 91.6ms\tremaining: 894ms\n",
            "93:\tlearn: 0.4506877\ttotal: 92.7ms\tremaining: 894ms\n",
            "94:\tlearn: 0.4504769\ttotal: 93.5ms\tremaining: 891ms\n",
            "95:\tlearn: 0.4497746\ttotal: 94.4ms\tremaining: 889ms\n",
            "96:\tlearn: 0.4493725\ttotal: 95.1ms\tremaining: 886ms\n",
            "97:\tlearn: 0.4482561\ttotal: 96.2ms\tremaining: 886ms\n",
            "98:\tlearn: 0.4477805\ttotal: 97.1ms\tremaining: 884ms\n",
            "99:\tlearn: 0.4464543\ttotal: 98.1ms\tremaining: 883ms\n",
            "100:\tlearn: 0.4453483\ttotal: 99.2ms\tremaining: 883ms\n",
            "101:\tlearn: 0.4441891\ttotal: 100ms\tremaining: 883ms\n",
            "102:\tlearn: 0.4434251\ttotal: 101ms\tremaining: 882ms\n",
            "103:\tlearn: 0.4423600\ttotal: 102ms\tremaining: 881ms\n",
            "104:\tlearn: 0.4413274\ttotal: 103ms\tremaining: 881ms\n",
            "105:\tlearn: 0.4401969\ttotal: 104ms\tremaining: 880ms\n",
            "106:\tlearn: 0.4392779\ttotal: 105ms\tremaining: 880ms\n",
            "107:\tlearn: 0.4381922\ttotal: 107ms\tremaining: 880ms\n",
            "108:\tlearn: 0.4372121\ttotal: 108ms\tremaining: 879ms\n",
            "109:\tlearn: 0.4365780\ttotal: 108ms\tremaining: 878ms\n",
            "110:\tlearn: 0.4359956\ttotal: 109ms\tremaining: 876ms\n",
            "111:\tlearn: 0.4353896\ttotal: 110ms\tremaining: 874ms\n",
            "112:\tlearn: 0.4351107\ttotal: 111ms\tremaining: 871ms\n",
            "113:\tlearn: 0.4342410\ttotal: 112ms\tremaining: 870ms\n",
            "114:\tlearn: 0.4339304\ttotal: 113ms\tremaining: 868ms\n",
            "115:\tlearn: 0.4330415\ttotal: 114ms\tremaining: 866ms\n",
            "116:\tlearn: 0.4322752\ttotal: 115ms\tremaining: 866ms\n",
            "117:\tlearn: 0.4320246\ttotal: 115ms\tremaining: 863ms\n",
            "118:\tlearn: 0.4317790\ttotal: 116ms\tremaining: 861ms\n",
            "119:\tlearn: 0.4309251\ttotal: 117ms\tremaining: 860ms\n",
            "120:\tlearn: 0.4303239\ttotal: 118ms\tremaining: 860ms\n",
            "121:\tlearn: 0.4296884\ttotal: 120ms\tremaining: 860ms\n",
            "122:\tlearn: 0.4288446\ttotal: 121ms\tremaining: 860ms\n",
            "123:\tlearn: 0.4281059\ttotal: 122ms\tremaining: 859ms\n",
            "124:\tlearn: 0.4275352\ttotal: 123ms\tremaining: 859ms\n",
            "125:\tlearn: 0.4269450\ttotal: 124ms\tremaining: 858ms\n",
            "126:\tlearn: 0.4267297\ttotal: 125ms\tremaining: 856ms\n",
            "127:\tlearn: 0.4262063\ttotal: 126ms\tremaining: 855ms\n",
            "128:\tlearn: 0.4257827\ttotal: 127ms\tremaining: 859ms\n",
            "129:\tlearn: 0.4250161\ttotal: 129ms\tremaining: 864ms\n",
            "130:\tlearn: 0.4242931\ttotal: 130ms\tremaining: 863ms\n",
            "131:\tlearn: 0.4237437\ttotal: 131ms\tremaining: 862ms\n",
            "132:\tlearn: 0.4234991\ttotal: 132ms\tremaining: 860ms\n",
            "133:\tlearn: 0.4232668\ttotal: 133ms\tremaining: 859ms\n",
            "134:\tlearn: 0.4225189\ttotal: 134ms\tremaining: 859ms\n",
            "135:\tlearn: 0.4217896\ttotal: 135ms\tremaining: 858ms\n",
            "136:\tlearn: 0.4211454\ttotal: 136ms\tremaining: 857ms\n",
            "137:\tlearn: 0.4209521\ttotal: 137ms\tremaining: 856ms\n",
            "138:\tlearn: 0.4203370\ttotal: 138ms\tremaining: 855ms\n",
            "139:\tlearn: 0.4199764\ttotal: 139ms\tremaining: 853ms\n",
            "140:\tlearn: 0.4196103\ttotal: 140ms\tremaining: 852ms\n",
            "141:\tlearn: 0.4189910\ttotal: 141ms\tremaining: 852ms\n",
            "142:\tlearn: 0.4186085\ttotal: 142ms\tremaining: 851ms\n",
            "143:\tlearn: 0.4179278\ttotal: 143ms\tremaining: 850ms\n",
            "144:\tlearn: 0.4177126\ttotal: 144ms\tremaining: 848ms\n",
            "145:\tlearn: 0.4176119\ttotal: 145ms\tremaining: 845ms\n",
            "146:\tlearn: 0.4174211\ttotal: 145ms\tremaining: 844ms\n",
            "147:\tlearn: 0.4169436\ttotal: 146ms\tremaining: 843ms\n",
            "148:\tlearn: 0.4165863\ttotal: 147ms\tremaining: 842ms\n",
            "149:\tlearn: 0.4160237\ttotal: 148ms\tremaining: 841ms\n",
            "150:\tlearn: 0.4157287\ttotal: 149ms\tremaining: 840ms\n",
            "151:\tlearn: 0.4152684\ttotal: 151ms\tremaining: 840ms\n",
            "152:\tlearn: 0.4146864\ttotal: 152ms\tremaining: 839ms\n",
            "153:\tlearn: 0.4143315\ttotal: 153ms\tremaining: 838ms\n",
            "154:\tlearn: 0.4138864\ttotal: 154ms\tremaining: 837ms\n",
            "155:\tlearn: 0.4133660\ttotal: 155ms\tremaining: 837ms\n",
            "156:\tlearn: 0.4129928\ttotal: 156ms\tremaining: 836ms\n",
            "157:\tlearn: 0.4125692\ttotal: 157ms\tremaining: 836ms\n",
            "158:\tlearn: 0.4119822\ttotal: 158ms\tremaining: 835ms\n",
            "159:\tlearn: 0.4114687\ttotal: 159ms\tremaining: 834ms\n",
            "160:\tlearn: 0.4113807\ttotal: 160ms\tremaining: 832ms\n",
            "161:\tlearn: 0.4107923\ttotal: 161ms\tremaining: 832ms\n",
            "162:\tlearn: 0.4103286\ttotal: 162ms\tremaining: 832ms\n",
            "163:\tlearn: 0.4097992\ttotal: 163ms\tremaining: 832ms\n",
            "164:\tlearn: 0.4094107\ttotal: 164ms\tremaining: 831ms\n",
            "165:\tlearn: 0.4092054\ttotal: 165ms\tremaining: 829ms\n",
            "166:\tlearn: 0.4087594\ttotal: 166ms\tremaining: 828ms\n",
            "167:\tlearn: 0.4083627\ttotal: 167ms\tremaining: 827ms\n",
            "168:\tlearn: 0.4082766\ttotal: 168ms\tremaining: 825ms\n",
            "169:\tlearn: 0.4079674\ttotal: 169ms\tremaining: 824ms\n",
            "170:\tlearn: 0.4075037\ttotal: 170ms\tremaining: 822ms\n",
            "171:\tlearn: 0.4069806\ttotal: 171ms\tremaining: 822ms\n",
            "172:\tlearn: 0.4065296\ttotal: 172ms\tremaining: 821ms\n",
            "173:\tlearn: 0.4060222\ttotal: 173ms\tremaining: 821ms\n",
            "174:\tlearn: 0.4058947\ttotal: 174ms\tremaining: 819ms\n",
            "175:\tlearn: 0.4052573\ttotal: 175ms\tremaining: 819ms\n",
            "176:\tlearn: 0.4046934\ttotal: 176ms\tremaining: 818ms\n",
            "177:\tlearn: 0.4045178\ttotal: 185ms\tremaining: 854ms\n",
            "178:\tlearn: 0.4040664\ttotal: 186ms\tremaining: 853ms\n",
            "179:\tlearn: 0.4038199\ttotal: 187ms\tremaining: 852ms\n",
            "180:\tlearn: 0.4033982\ttotal: 188ms\tremaining: 851ms\n",
            "181:\tlearn: 0.4030818\ttotal: 189ms\tremaining: 850ms\n",
            "182:\tlearn: 0.4025893\ttotal: 190ms\tremaining: 849ms\n",
            "183:\tlearn: 0.4024531\ttotal: 191ms\tremaining: 847ms\n",
            "184:\tlearn: 0.4024012\ttotal: 192ms\tremaining: 845ms\n",
            "185:\tlearn: 0.4019889\ttotal: 193ms\tremaining: 844ms\n",
            "186:\tlearn: 0.4018167\ttotal: 194ms\tremaining: 842ms\n",
            "187:\tlearn: 0.4013818\ttotal: 195ms\tremaining: 841ms\n",
            "188:\tlearn: 0.4010124\ttotal: 196ms\tremaining: 841ms\n",
            "189:\tlearn: 0.4007558\ttotal: 197ms\tremaining: 839ms\n",
            "190:\tlearn: 0.4006627\ttotal: 198ms\tremaining: 837ms\n",
            "191:\tlearn: 0.4005437\ttotal: 199ms\tremaining: 836ms\n",
            "192:\tlearn: 0.4003393\ttotal: 200ms\tremaining: 834ms\n",
            "193:\tlearn: 0.4002253\ttotal: 200ms\tremaining: 832ms\n",
            "194:\tlearn: 0.4001736\ttotal: 201ms\tremaining: 830ms\n",
            "195:\tlearn: 0.3996970\ttotal: 202ms\tremaining: 829ms\n",
            "196:\tlearn: 0.3995332\ttotal: 203ms\tremaining: 829ms\n",
            "197:\tlearn: 0.3993865\ttotal: 204ms\tremaining: 828ms\n",
            "198:\tlearn: 0.3990223\ttotal: 205ms\tremaining: 827ms\n",
            "199:\tlearn: 0.3986478\ttotal: 207ms\tremaining: 826ms\n",
            "200:\tlearn: 0.3982395\ttotal: 208ms\tremaining: 825ms\n",
            "201:\tlearn: 0.3978876\ttotal: 209ms\tremaining: 825ms\n",
            "202:\tlearn: 0.3978487\ttotal: 210ms\tremaining: 823ms\n",
            "203:\tlearn: 0.3976009\ttotal: 211ms\tremaining: 822ms\n",
            "204:\tlearn: 0.3972913\ttotal: 212ms\tremaining: 821ms\n",
            "205:\tlearn: 0.3968726\ttotal: 213ms\tremaining: 820ms\n",
            "206:\tlearn: 0.3966426\ttotal: 214ms\tremaining: 819ms\n",
            "207:\tlearn: 0.3962628\ttotal: 215ms\tremaining: 818ms\n",
            "208:\tlearn: 0.3958271\ttotal: 216ms\tremaining: 817ms\n",
            "209:\tlearn: 0.3955736\ttotal: 217ms\tremaining: 816ms\n",
            "210:\tlearn: 0.3952484\ttotal: 218ms\tremaining: 815ms\n",
            "211:\tlearn: 0.3949623\ttotal: 219ms\tremaining: 814ms\n",
            "212:\tlearn: 0.3948895\ttotal: 220ms\tremaining: 812ms\n",
            "213:\tlearn: 0.3947741\ttotal: 221ms\tremaining: 811ms\n",
            "214:\tlearn: 0.3945527\ttotal: 222ms\tremaining: 810ms\n",
            "215:\tlearn: 0.3944847\ttotal: 223ms\tremaining: 808ms\n",
            "216:\tlearn: 0.3941852\ttotal: 224ms\tremaining: 807ms\n",
            "217:\tlearn: 0.3941266\ttotal: 225ms\tremaining: 806ms\n",
            "218:\tlearn: 0.3938414\ttotal: 226ms\tremaining: 805ms\n",
            "219:\tlearn: 0.3936196\ttotal: 227ms\tremaining: 804ms\n",
            "220:\tlearn: 0.3934911\ttotal: 228ms\tremaining: 803ms\n",
            "221:\tlearn: 0.3933580\ttotal: 229ms\tremaining: 802ms\n",
            "222:\tlearn: 0.3931150\ttotal: 230ms\tremaining: 801ms\n",
            "223:\tlearn: 0.3928559\ttotal: 231ms\tremaining: 800ms\n",
            "224:\tlearn: 0.3925977\ttotal: 232ms\tremaining: 799ms\n",
            "225:\tlearn: 0.3925686\ttotal: 233ms\tremaining: 797ms\n",
            "226:\tlearn: 0.3923708\ttotal: 234ms\tremaining: 796ms\n",
            "227:\tlearn: 0.3921161\ttotal: 235ms\tremaining: 795ms\n",
            "228:\tlearn: 0.3919880\ttotal: 236ms\tremaining: 794ms\n",
            "229:\tlearn: 0.3918530\ttotal: 239ms\tremaining: 800ms\n",
            "230:\tlearn: 0.3915863\ttotal: 240ms\tremaining: 799ms\n",
            "231:\tlearn: 0.3912585\ttotal: 241ms\tremaining: 798ms\n",
            "232:\tlearn: 0.3910884\ttotal: 242ms\tremaining: 797ms\n",
            "233:\tlearn: 0.3908831\ttotal: 243ms\tremaining: 796ms\n",
            "234:\tlearn: 0.3906529\ttotal: 244ms\tremaining: 796ms\n",
            "235:\tlearn: 0.3905080\ttotal: 245ms\tremaining: 794ms\n",
            "236:\tlearn: 0.3902605\ttotal: 246ms\tremaining: 794ms\n",
            "237:\tlearn: 0.3902245\ttotal: 247ms\tremaining: 792ms\n",
            "238:\tlearn: 0.3900395\ttotal: 248ms\tremaining: 791ms\n",
            "239:\tlearn: 0.3897385\ttotal: 250ms\tremaining: 790ms\n",
            "240:\tlearn: 0.3897150\ttotal: 250ms\tremaining: 789ms\n",
            "241:\tlearn: 0.3896919\ttotal: 251ms\tremaining: 787ms\n",
            "242:\tlearn: 0.3894549\ttotal: 252ms\tremaining: 786ms\n",
            "243:\tlearn: 0.3892097\ttotal: 253ms\tremaining: 785ms\n",
            "244:\tlearn: 0.3889646\ttotal: 254ms\tremaining: 784ms\n",
            "245:\tlearn: 0.3889434\ttotal: 255ms\tremaining: 782ms\n",
            "246:\tlearn: 0.3887412\ttotal: 256ms\tremaining: 781ms\n",
            "247:\tlearn: 0.3885288\ttotal: 257ms\tremaining: 780ms\n",
            "248:\tlearn: 0.3882910\ttotal: 258ms\tremaining: 779ms\n",
            "249:\tlearn: 0.3881726\ttotal: 259ms\tremaining: 778ms\n",
            "250:\tlearn: 0.3880189\ttotal: 261ms\tremaining: 777ms\n",
            "251:\tlearn: 0.3878586\ttotal: 262ms\tremaining: 776ms\n",
            "252:\tlearn: 0.3876645\ttotal: 263ms\tremaining: 776ms\n",
            "253:\tlearn: 0.3876140\ttotal: 263ms\tremaining: 774ms\n",
            "254:\tlearn: 0.3874638\ttotal: 264ms\tremaining: 773ms\n",
            "255:\tlearn: 0.3873155\ttotal: 265ms\tremaining: 772ms\n",
            "256:\tlearn: 0.3871662\ttotal: 267ms\tremaining: 771ms\n",
            "257:\tlearn: 0.3868884\ttotal: 268ms\tremaining: 770ms\n",
            "258:\tlearn: 0.3867445\ttotal: 269ms\tremaining: 768ms\n",
            "259:\tlearn: 0.3865824\ttotal: 270ms\tremaining: 767ms\n",
            "260:\tlearn: 0.3865026\ttotal: 271ms\tremaining: 766ms\n",
            "261:\tlearn: 0.3863324\ttotal: 272ms\tremaining: 765ms\n",
            "262:\tlearn: 0.3861783\ttotal: 273ms\tremaining: 764ms\n",
            "263:\tlearn: 0.3860525\ttotal: 274ms\tremaining: 763ms\n",
            "264:\tlearn: 0.3859445\ttotal: 275ms\tremaining: 762ms\n",
            "265:\tlearn: 0.3859206\ttotal: 275ms\tremaining: 760ms\n",
            "266:\tlearn: 0.3857256\ttotal: 277ms\tremaining: 761ms\n",
            "267:\tlearn: 0.3854555\ttotal: 278ms\tremaining: 760ms\n",
            "268:\tlearn: 0.3852449\ttotal: 280ms\tremaining: 760ms\n",
            "269:\tlearn: 0.3851773\ttotal: 281ms\tremaining: 759ms\n",
            "270:\tlearn: 0.3849211\ttotal: 282ms\tremaining: 758ms\n",
            "271:\tlearn: 0.3847738\ttotal: 283ms\tremaining: 757ms\n",
            "272:\tlearn: 0.3845799\ttotal: 284ms\tremaining: 756ms\n",
            "273:\tlearn: 0.3844883\ttotal: 285ms\tremaining: 754ms\n",
            "274:\tlearn: 0.3843171\ttotal: 286ms\tremaining: 754ms\n",
            "275:\tlearn: 0.3842998\ttotal: 287ms\tremaining: 752ms\n",
            "276:\tlearn: 0.3841752\ttotal: 288ms\tremaining: 751ms\n",
            "277:\tlearn: 0.3839898\ttotal: 289ms\tremaining: 750ms\n",
            "278:\tlearn: 0.3839386\ttotal: 290ms\tremaining: 749ms\n",
            "279:\tlearn: 0.3838646\ttotal: 291ms\tremaining: 748ms\n",
            "280:\tlearn: 0.3837522\ttotal: 292ms\tremaining: 747ms\n",
            "281:\tlearn: 0.3836601\ttotal: 293ms\tremaining: 746ms\n",
            "282:\tlearn: 0.3835084\ttotal: 294ms\tremaining: 745ms\n",
            "283:\tlearn: 0.3833589\ttotal: 295ms\tremaining: 744ms\n",
            "284:\tlearn: 0.3832805\ttotal: 296ms\tremaining: 743ms\n",
            "285:\tlearn: 0.3831094\ttotal: 298ms\tremaining: 743ms\n",
            "286:\tlearn: 0.3830721\ttotal: 299ms\tremaining: 743ms\n",
            "287:\tlearn: 0.3830261\ttotal: 300ms\tremaining: 743ms\n",
            "288:\tlearn: 0.3827856\ttotal: 302ms\tremaining: 742ms\n",
            "289:\tlearn: 0.3825261\ttotal: 303ms\tremaining: 741ms\n",
            "290:\tlearn: 0.3822765\ttotal: 306ms\tremaining: 746ms\n",
            "291:\tlearn: 0.3820727\ttotal: 307ms\tremaining: 745ms\n",
            "292:\tlearn: 0.3817996\ttotal: 308ms\tremaining: 744ms\n",
            "293:\tlearn: 0.3816448\ttotal: 309ms\tremaining: 743ms\n",
            "294:\tlearn: 0.3815557\ttotal: 310ms\tremaining: 742ms\n",
            "295:\tlearn: 0.3813993\ttotal: 311ms\tremaining: 741ms\n",
            "296:\tlearn: 0.3812217\ttotal: 312ms\tremaining: 739ms\n",
            "297:\tlearn: 0.3811277\ttotal: 313ms\tremaining: 738ms\n",
            "298:\tlearn: 0.3809259\ttotal: 315ms\tremaining: 737ms\n",
            "299:\tlearn: 0.3807535\ttotal: 316ms\tremaining: 737ms\n",
            "300:\tlearn: 0.3807213\ttotal: 317ms\tremaining: 735ms\n",
            "301:\tlearn: 0.3805051\ttotal: 318ms\tremaining: 734ms\n",
            "302:\tlearn: 0.3804337\ttotal: 319ms\tremaining: 733ms\n",
            "303:\tlearn: 0.3801065\ttotal: 320ms\tremaining: 732ms\n",
            "304:\tlearn: 0.3800989\ttotal: 320ms\tremaining: 730ms\n",
            "305:\tlearn: 0.3800406\ttotal: 321ms\tremaining: 729ms\n",
            "306:\tlearn: 0.3798861\ttotal: 322ms\tremaining: 728ms\n",
            "307:\tlearn: 0.3798077\ttotal: 323ms\tremaining: 727ms\n",
            "308:\tlearn: 0.3796994\ttotal: 324ms\tremaining: 726ms\n",
            "309:\tlearn: 0.3795594\ttotal: 325ms\tremaining: 724ms\n",
            "310:\tlearn: 0.3795156\ttotal: 327ms\tremaining: 723ms\n",
            "311:\tlearn: 0.3794571\ttotal: 328ms\tremaining: 722ms\n",
            "312:\tlearn: 0.3794502\ttotal: 328ms\tremaining: 721ms\n",
            "313:\tlearn: 0.3793138\ttotal: 329ms\tremaining: 720ms\n",
            "314:\tlearn: 0.3791893\ttotal: 330ms\tremaining: 719ms\n",
            "315:\tlearn: 0.3791037\ttotal: 332ms\tremaining: 718ms\n",
            "316:\tlearn: 0.3789978\ttotal: 333ms\tremaining: 717ms\n",
            "317:\tlearn: 0.3788363\ttotal: 334ms\tremaining: 716ms\n",
            "318:\tlearn: 0.3787928\ttotal: 335ms\tremaining: 715ms\n",
            "319:\tlearn: 0.3786633\ttotal: 338ms\tremaining: 719ms\n",
            "320:\tlearn: 0.3785212\ttotal: 340ms\tremaining: 719ms\n",
            "321:\tlearn: 0.3783298\ttotal: 341ms\tremaining: 718ms\n",
            "322:\tlearn: 0.3781721\ttotal: 342ms\tremaining: 717ms\n",
            "323:\tlearn: 0.3780687\ttotal: 343ms\tremaining: 716ms\n",
            "324:\tlearn: 0.3778534\ttotal: 344ms\tremaining: 715ms\n",
            "325:\tlearn: 0.3775725\ttotal: 345ms\tremaining: 714ms\n",
            "326:\tlearn: 0.3773970\ttotal: 348ms\tremaining: 715ms\n",
            "327:\tlearn: 0.3773190\ttotal: 349ms\tremaining: 715ms\n",
            "328:\tlearn: 0.3771128\ttotal: 350ms\tremaining: 714ms\n",
            "329:\tlearn: 0.3769901\ttotal: 351ms\tremaining: 713ms\n",
            "330:\tlearn: 0.3769636\ttotal: 352ms\tremaining: 712ms\n",
            "331:\tlearn: 0.3767777\ttotal: 353ms\tremaining: 711ms\n",
            "332:\tlearn: 0.3766236\ttotal: 355ms\tremaining: 711ms\n",
            "333:\tlearn: 0.3765627\ttotal: 356ms\tremaining: 709ms\n",
            "334:\tlearn: 0.3764634\ttotal: 357ms\tremaining: 708ms\n",
            "335:\tlearn: 0.3764019\ttotal: 358ms\tremaining: 707ms\n",
            "336:\tlearn: 0.3762572\ttotal: 359ms\tremaining: 706ms\n",
            "337:\tlearn: 0.3761683\ttotal: 360ms\tremaining: 705ms\n",
            "338:\tlearn: 0.3759570\ttotal: 361ms\tremaining: 704ms\n",
            "339:\tlearn: 0.3755111\ttotal: 362ms\tremaining: 703ms\n",
            "340:\tlearn: 0.3753428\ttotal: 363ms\tremaining: 702ms\n",
            "341:\tlearn: 0.3753022\ttotal: 364ms\tremaining: 701ms\n",
            "342:\tlearn: 0.3752469\ttotal: 367ms\tremaining: 702ms\n",
            "343:\tlearn: 0.3752148\ttotal: 368ms\tremaining: 701ms\n",
            "344:\tlearn: 0.3752110\ttotal: 368ms\tremaining: 699ms\n",
            "345:\tlearn: 0.3751792\ttotal: 373ms\tremaining: 705ms\n",
            "346:\tlearn: 0.3751226\ttotal: 374ms\tremaining: 704ms\n",
            "347:\tlearn: 0.3750436\ttotal: 375ms\tremaining: 703ms\n",
            "348:\tlearn: 0.3749496\ttotal: 377ms\tremaining: 702ms\n",
            "349:\tlearn: 0.3749427\ttotal: 377ms\tremaining: 701ms\n",
            "350:\tlearn: 0.3748642\ttotal: 378ms\tremaining: 700ms\n",
            "351:\tlearn: 0.3748093\ttotal: 381ms\tremaining: 702ms\n",
            "352:\tlearn: 0.3745740\ttotal: 383ms\tremaining: 702ms\n",
            "353:\tlearn: 0.3745718\ttotal: 384ms\tremaining: 700ms\n",
            "354:\tlearn: 0.3744549\ttotal: 385ms\tremaining: 699ms\n",
            "355:\tlearn: 0.3744364\ttotal: 386ms\tremaining: 698ms\n",
            "356:\tlearn: 0.3744330\ttotal: 387ms\tremaining: 697ms\n",
            "357:\tlearn: 0.3743374\ttotal: 388ms\tremaining: 695ms\n",
            "358:\tlearn: 0.3743244\ttotal: 389ms\tremaining: 694ms\n",
            "359:\tlearn: 0.3741677\ttotal: 390ms\tremaining: 693ms\n",
            "360:\tlearn: 0.3740160\ttotal: 391ms\tremaining: 692ms\n",
            "361:\tlearn: 0.3740129\ttotal: 392ms\tremaining: 691ms\n",
            "362:\tlearn: 0.3738590\ttotal: 393ms\tremaining: 690ms\n",
            "363:\tlearn: 0.3738390\ttotal: 394ms\tremaining: 689ms\n",
            "364:\tlearn: 0.3737683\ttotal: 396ms\tremaining: 688ms\n",
            "365:\tlearn: 0.3736721\ttotal: 397ms\tremaining: 687ms\n",
            "366:\tlearn: 0.3735453\ttotal: 398ms\tremaining: 686ms\n",
            "367:\tlearn: 0.3735176\ttotal: 399ms\tremaining: 686ms\n",
            "368:\tlearn: 0.3735034\ttotal: 400ms\tremaining: 685ms\n",
            "369:\tlearn: 0.3734871\ttotal: 401ms\tremaining: 683ms\n",
            "370:\tlearn: 0.3733931\ttotal: 402ms\tremaining: 682ms\n",
            "371:\tlearn: 0.3733148\ttotal: 403ms\tremaining: 681ms\n",
            "372:\tlearn: 0.3731706\ttotal: 405ms\tremaining: 680ms\n",
            "373:\tlearn: 0.3729706\ttotal: 406ms\tremaining: 679ms\n",
            "374:\tlearn: 0.3728429\ttotal: 407ms\tremaining: 678ms\n",
            "375:\tlearn: 0.3728092\ttotal: 408ms\tremaining: 677ms\n",
            "376:\tlearn: 0.3727298\ttotal: 409ms\tremaining: 676ms\n",
            "377:\tlearn: 0.3726466\ttotal: 410ms\tremaining: 675ms\n",
            "378:\tlearn: 0.3726291\ttotal: 411ms\tremaining: 673ms\n",
            "379:\tlearn: 0.3726115\ttotal: 412ms\tremaining: 672ms\n",
            "380:\tlearn: 0.3724256\ttotal: 413ms\tremaining: 671ms\n",
            "381:\tlearn: 0.3723880\ttotal: 414ms\tremaining: 670ms\n",
            "382:\tlearn: 0.3721822\ttotal: 415ms\tremaining: 669ms\n",
            "383:\tlearn: 0.3720958\ttotal: 416ms\tremaining: 668ms\n",
            "384:\tlearn: 0.3720287\ttotal: 417ms\tremaining: 667ms\n",
            "385:\tlearn: 0.3719371\ttotal: 418ms\tremaining: 666ms\n",
            "386:\tlearn: 0.3717775\ttotal: 420ms\tremaining: 665ms\n",
            "387:\tlearn: 0.3716030\ttotal: 421ms\tremaining: 663ms\n",
            "388:\tlearn: 0.3715036\ttotal: 422ms\tremaining: 662ms\n",
            "389:\tlearn: 0.3714949\ttotal: 423ms\tremaining: 661ms\n",
            "390:\tlearn: 0.3714204\ttotal: 424ms\tremaining: 660ms\n",
            "391:\tlearn: 0.3711881\ttotal: 425ms\tremaining: 659ms\n",
            "392:\tlearn: 0.3711827\ttotal: 426ms\tremaining: 658ms\n",
            "393:\tlearn: 0.3711563\ttotal: 427ms\tremaining: 656ms\n",
            "394:\tlearn: 0.3711382\ttotal: 428ms\tremaining: 655ms\n",
            "395:\tlearn: 0.3711361\ttotal: 428ms\tremaining: 653ms\n",
            "396:\tlearn: 0.3710461\ttotal: 429ms\tremaining: 652ms\n",
            "397:\tlearn: 0.3710228\ttotal: 430ms\tremaining: 651ms\n",
            "398:\tlearn: 0.3707730\ttotal: 431ms\tremaining: 650ms\n",
            "399:\tlearn: 0.3707524\ttotal: 432ms\tremaining: 648ms\n",
            "400:\tlearn: 0.3707091\ttotal: 433ms\tremaining: 647ms\n",
            "401:\tlearn: 0.3706163\ttotal: 434ms\tremaining: 646ms\n",
            "402:\tlearn: 0.3705510\ttotal: 435ms\tremaining: 645ms\n",
            "403:\tlearn: 0.3705155\ttotal: 436ms\tremaining: 644ms\n",
            "404:\tlearn: 0.3704867\ttotal: 437ms\tremaining: 642ms\n",
            "405:\tlearn: 0.3703722\ttotal: 438ms\tremaining: 641ms\n",
            "406:\tlearn: 0.3703614\ttotal: 439ms\tremaining: 640ms\n",
            "407:\tlearn: 0.3703542\ttotal: 440ms\tremaining: 638ms\n",
            "408:\tlearn: 0.3703364\ttotal: 441ms\tremaining: 637ms\n",
            "409:\tlearn: 0.3702484\ttotal: 442ms\tremaining: 636ms\n",
            "410:\tlearn: 0.3702133\ttotal: 443ms\tremaining: 635ms\n",
            "411:\tlearn: 0.3701769\ttotal: 445ms\tremaining: 634ms\n",
            "412:\tlearn: 0.3701413\ttotal: 446ms\tremaining: 634ms\n",
            "413:\tlearn: 0.3698483\ttotal: 448ms\tremaining: 633ms\n",
            "414:\tlearn: 0.3697251\ttotal: 449ms\tremaining: 632ms\n",
            "415:\tlearn: 0.3696102\ttotal: 450ms\tremaining: 631ms\n",
            "416:\tlearn: 0.3694697\ttotal: 451ms\tremaining: 630ms\n",
            "417:\tlearn: 0.3693714\ttotal: 452ms\tremaining: 629ms\n",
            "418:\tlearn: 0.3693200\ttotal: 453ms\tremaining: 628ms\n",
            "419:\tlearn: 0.3692862\ttotal: 454ms\tremaining: 627ms\n",
            "420:\tlearn: 0.3692448\ttotal: 455ms\tremaining: 626ms\n",
            "421:\tlearn: 0.3692309\ttotal: 456ms\tremaining: 624ms\n",
            "422:\tlearn: 0.3691922\ttotal: 457ms\tremaining: 623ms\n",
            "423:\tlearn: 0.3691095\ttotal: 458ms\tremaining: 622ms\n",
            "424:\tlearn: 0.3689638\ttotal: 459ms\tremaining: 621ms\n",
            "425:\tlearn: 0.3688442\ttotal: 460ms\tremaining: 620ms\n",
            "426:\tlearn: 0.3687263\ttotal: 461ms\tremaining: 618ms\n",
            "427:\tlearn: 0.3686440\ttotal: 462ms\tremaining: 617ms\n",
            "428:\tlearn: 0.3685497\ttotal: 463ms\tremaining: 616ms\n",
            "429:\tlearn: 0.3685061\ttotal: 464ms\tremaining: 615ms\n",
            "430:\tlearn: 0.3684581\ttotal: 465ms\tremaining: 614ms\n",
            "431:\tlearn: 0.3684020\ttotal: 466ms\tremaining: 613ms\n",
            "432:\tlearn: 0.3682372\ttotal: 467ms\tremaining: 611ms\n",
            "433:\tlearn: 0.3681887\ttotal: 468ms\tremaining: 610ms\n",
            "434:\tlearn: 0.3680707\ttotal: 469ms\tremaining: 609ms\n",
            "435:\tlearn: 0.3679353\ttotal: 470ms\tremaining: 608ms\n",
            "436:\tlearn: 0.3679042\ttotal: 471ms\tremaining: 607ms\n",
            "437:\tlearn: 0.3677354\ttotal: 472ms\tremaining: 605ms\n",
            "438:\tlearn: 0.3677185\ttotal: 473ms\tremaining: 604ms\n",
            "439:\tlearn: 0.3676214\ttotal: 474ms\tremaining: 603ms\n",
            "440:\tlearn: 0.3675022\ttotal: 475ms\tremaining: 602ms\n",
            "441:\tlearn: 0.3674905\ttotal: 476ms\tremaining: 600ms\n",
            "442:\tlearn: 0.3674341\ttotal: 477ms\tremaining: 600ms\n",
            "443:\tlearn: 0.3674231\ttotal: 478ms\tremaining: 598ms\n",
            "444:\tlearn: 0.3674153\ttotal: 479ms\tremaining: 597ms\n",
            "445:\tlearn: 0.3674044\ttotal: 480ms\tremaining: 596ms\n",
            "446:\tlearn: 0.3673822\ttotal: 481ms\tremaining: 595ms\n",
            "447:\tlearn: 0.3672950\ttotal: 482ms\tremaining: 594ms\n",
            "448:\tlearn: 0.3672547\ttotal: 483ms\tremaining: 592ms\n",
            "449:\tlearn: 0.3671981\ttotal: 484ms\tremaining: 591ms\n",
            "450:\tlearn: 0.3670421\ttotal: 485ms\tremaining: 590ms\n",
            "451:\tlearn: 0.3669703\ttotal: 486ms\tremaining: 589ms\n",
            "452:\tlearn: 0.3669090\ttotal: 487ms\tremaining: 588ms\n",
            "453:\tlearn: 0.3668648\ttotal: 488ms\tremaining: 587ms\n",
            "454:\tlearn: 0.3667574\ttotal: 489ms\tremaining: 586ms\n",
            "455:\tlearn: 0.3667332\ttotal: 490ms\tremaining: 585ms\n",
            "456:\tlearn: 0.3667054\ttotal: 492ms\tremaining: 585ms\n",
            "457:\tlearn: 0.3666693\ttotal: 494ms\tremaining: 584ms\n",
            "458:\tlearn: 0.3666101\ttotal: 495ms\tremaining: 583ms\n",
            "459:\tlearn: 0.3664706\ttotal: 496ms\tremaining: 583ms\n",
            "460:\tlearn: 0.3664658\ttotal: 497ms\tremaining: 581ms\n",
            "461:\tlearn: 0.3663833\ttotal: 498ms\tremaining: 580ms\n",
            "462:\tlearn: 0.3662719\ttotal: 500ms\tremaining: 580ms\n",
            "463:\tlearn: 0.3662433\ttotal: 501ms\tremaining: 579ms\n",
            "464:\tlearn: 0.3661447\ttotal: 502ms\tremaining: 578ms\n",
            "465:\tlearn: 0.3660514\ttotal: 504ms\tremaining: 577ms\n",
            "466:\tlearn: 0.3660382\ttotal: 504ms\tremaining: 576ms\n",
            "467:\tlearn: 0.3660328\ttotal: 505ms\tremaining: 574ms\n",
            "468:\tlearn: 0.3659473\ttotal: 506ms\tremaining: 573ms\n",
            "469:\tlearn: 0.3659238\ttotal: 507ms\tremaining: 572ms\n",
            "470:\tlearn: 0.3659139\ttotal: 508ms\tremaining: 571ms\n",
            "471:\tlearn: 0.3657849\ttotal: 509ms\tremaining: 570ms\n",
            "472:\tlearn: 0.3657400\ttotal: 510ms\tremaining: 569ms\n",
            "473:\tlearn: 0.3656341\ttotal: 511ms\tremaining: 568ms\n",
            "474:\tlearn: 0.3656018\ttotal: 512ms\tremaining: 566ms\n",
            "475:\tlearn: 0.3655024\ttotal: 513ms\tremaining: 565ms\n",
            "476:\tlearn: 0.3654271\ttotal: 515ms\tremaining: 564ms\n",
            "477:\tlearn: 0.3652602\ttotal: 516ms\tremaining: 563ms\n",
            "478:\tlearn: 0.3651803\ttotal: 517ms\tremaining: 562ms\n",
            "479:\tlearn: 0.3651146\ttotal: 518ms\tremaining: 561ms\n",
            "480:\tlearn: 0.3651079\ttotal: 519ms\tremaining: 560ms\n",
            "481:\tlearn: 0.3650525\ttotal: 520ms\tremaining: 558ms\n",
            "482:\tlearn: 0.3649124\ttotal: 521ms\tremaining: 557ms\n",
            "483:\tlearn: 0.3649067\ttotal: 521ms\tremaining: 556ms\n",
            "484:\tlearn: 0.3648526\ttotal: 523ms\tremaining: 555ms\n",
            "485:\tlearn: 0.3647424\ttotal: 524ms\tremaining: 554ms\n",
            "486:\tlearn: 0.3646480\ttotal: 525ms\tremaining: 553ms\n",
            "487:\tlearn: 0.3645625\ttotal: 526ms\tremaining: 552ms\n",
            "488:\tlearn: 0.3644274\ttotal: 527ms\tremaining: 551ms\n",
            "489:\tlearn: 0.3642574\ttotal: 528ms\tremaining: 549ms\n",
            "490:\tlearn: 0.3642069\ttotal: 529ms\tremaining: 548ms\n",
            "491:\tlearn: 0.3641905\ttotal: 530ms\tremaining: 547ms\n",
            "492:\tlearn: 0.3641732\ttotal: 531ms\tremaining: 546ms\n",
            "493:\tlearn: 0.3640113\ttotal: 532ms\tremaining: 545ms\n",
            "494:\tlearn: 0.3639406\ttotal: 533ms\tremaining: 544ms\n",
            "495:\tlearn: 0.3638954\ttotal: 534ms\tremaining: 543ms\n",
            "496:\tlearn: 0.3638541\ttotal: 535ms\tremaining: 542ms\n",
            "497:\tlearn: 0.3637814\ttotal: 536ms\tremaining: 541ms\n",
            "498:\tlearn: 0.3637461\ttotal: 537ms\tremaining: 540ms\n",
            "499:\tlearn: 0.3636358\ttotal: 539ms\tremaining: 539ms\n",
            "500:\tlearn: 0.3635757\ttotal: 540ms\tremaining: 538ms\n",
            "501:\tlearn: 0.3634281\ttotal: 541ms\tremaining: 536ms\n",
            "502:\tlearn: 0.3634273\ttotal: 542ms\tremaining: 535ms\n",
            "503:\tlearn: 0.3633374\ttotal: 544ms\tremaining: 535ms\n",
            "504:\tlearn: 0.3632179\ttotal: 546ms\tremaining: 535ms\n",
            "505:\tlearn: 0.3631246\ttotal: 547ms\tremaining: 534ms\n",
            "506:\tlearn: 0.3630951\ttotal: 552ms\tremaining: 537ms\n",
            "507:\tlearn: 0.3630712\ttotal: 553ms\tremaining: 536ms\n",
            "508:\tlearn: 0.3630571\ttotal: 554ms\tremaining: 535ms\n",
            "509:\tlearn: 0.3629368\ttotal: 556ms\tremaining: 534ms\n",
            "510:\tlearn: 0.3628499\ttotal: 557ms\tremaining: 533ms\n",
            "511:\tlearn: 0.3627596\ttotal: 558ms\tremaining: 532ms\n",
            "512:\tlearn: 0.3626736\ttotal: 559ms\tremaining: 531ms\n",
            "513:\tlearn: 0.3626651\ttotal: 560ms\tremaining: 529ms\n",
            "514:\tlearn: 0.3625289\ttotal: 561ms\tremaining: 528ms\n",
            "515:\tlearn: 0.3625032\ttotal: 562ms\tremaining: 527ms\n",
            "516:\tlearn: 0.3624759\ttotal: 563ms\tremaining: 526ms\n",
            "517:\tlearn: 0.3621911\ttotal: 564ms\tremaining: 525ms\n",
            "518:\tlearn: 0.3620277\ttotal: 565ms\tremaining: 524ms\n",
            "519:\tlearn: 0.3620257\ttotal: 566ms\tremaining: 522ms\n",
            "520:\tlearn: 0.3620178\ttotal: 567ms\tremaining: 521ms\n",
            "521:\tlearn: 0.3619704\ttotal: 568ms\tremaining: 520ms\n",
            "522:\tlearn: 0.3619682\ttotal: 568ms\tremaining: 518ms\n",
            "523:\tlearn: 0.3619389\ttotal: 570ms\tremaining: 517ms\n",
            "524:\tlearn: 0.3618376\ttotal: 571ms\tremaining: 516ms\n",
            "525:\tlearn: 0.3616901\ttotal: 572ms\tremaining: 515ms\n",
            "526:\tlearn: 0.3616897\ttotal: 573ms\tremaining: 514ms\n",
            "527:\tlearn: 0.3615856\ttotal: 574ms\tremaining: 513ms\n",
            "528:\tlearn: 0.3615808\ttotal: 575ms\tremaining: 512ms\n",
            "529:\tlearn: 0.3612831\ttotal: 576ms\tremaining: 511ms\n",
            "530:\tlearn: 0.3612788\ttotal: 577ms\tremaining: 510ms\n",
            "531:\tlearn: 0.3612332\ttotal: 578ms\tremaining: 509ms\n",
            "532:\tlearn: 0.3611982\ttotal: 579ms\tremaining: 508ms\n",
            "533:\tlearn: 0.3611267\ttotal: 580ms\tremaining: 507ms\n",
            "534:\tlearn: 0.3610778\ttotal: 582ms\tremaining: 505ms\n",
            "535:\tlearn: 0.3610549\ttotal: 582ms\tremaining: 504ms\n",
            "536:\tlearn: 0.3609297\ttotal: 584ms\tremaining: 503ms\n",
            "537:\tlearn: 0.3608152\ttotal: 585ms\tremaining: 502ms\n",
            "538:\tlearn: 0.3607781\ttotal: 586ms\tremaining: 501ms\n",
            "539:\tlearn: 0.3606656\ttotal: 587ms\tremaining: 500ms\n",
            "540:\tlearn: 0.3605237\ttotal: 588ms\tremaining: 499ms\n",
            "541:\tlearn: 0.3604974\ttotal: 589ms\tremaining: 498ms\n",
            "542:\tlearn: 0.3604076\ttotal: 590ms\tremaining: 497ms\n",
            "543:\tlearn: 0.3602506\ttotal: 591ms\tremaining: 495ms\n",
            "544:\tlearn: 0.3602344\ttotal: 592ms\tremaining: 494ms\n",
            "545:\tlearn: 0.3601197\ttotal: 593ms\tremaining: 493ms\n",
            "546:\tlearn: 0.3600643\ttotal: 594ms\tremaining: 492ms\n",
            "547:\tlearn: 0.3600187\ttotal: 595ms\tremaining: 491ms\n",
            "548:\tlearn: 0.3599785\ttotal: 596ms\tremaining: 490ms\n",
            "549:\tlearn: 0.3599507\ttotal: 597ms\tremaining: 489ms\n",
            "550:\tlearn: 0.3599405\ttotal: 598ms\tremaining: 488ms\n",
            "551:\tlearn: 0.3599185\ttotal: 599ms\tremaining: 486ms\n",
            "552:\tlearn: 0.3598033\ttotal: 600ms\tremaining: 485ms\n",
            "553:\tlearn: 0.3597918\ttotal: 601ms\tremaining: 484ms\n",
            "554:\tlearn: 0.3597109\ttotal: 602ms\tremaining: 483ms\n",
            "555:\tlearn: 0.3596982\ttotal: 603ms\tremaining: 481ms\n",
            "556:\tlearn: 0.3595988\ttotal: 604ms\tremaining: 480ms\n",
            "557:\tlearn: 0.3595507\ttotal: 605ms\tremaining: 479ms\n",
            "558:\tlearn: 0.3594292\ttotal: 606ms\tremaining: 478ms\n",
            "559:\tlearn: 0.3594236\ttotal: 607ms\tremaining: 477ms\n",
            "560:\tlearn: 0.3594085\ttotal: 608ms\tremaining: 476ms\n",
            "561:\tlearn: 0.3593605\ttotal: 609ms\tremaining: 474ms\n",
            "562:\tlearn: 0.3592587\ttotal: 610ms\tremaining: 473ms\n",
            "563:\tlearn: 0.3592372\ttotal: 611ms\tremaining: 472ms\n",
            "564:\tlearn: 0.3591114\ttotal: 612ms\tremaining: 471ms\n",
            "565:\tlearn: 0.3590066\ttotal: 613ms\tremaining: 470ms\n",
            "566:\tlearn: 0.3589880\ttotal: 614ms\tremaining: 469ms\n",
            "567:\tlearn: 0.3589011\ttotal: 615ms\tremaining: 468ms\n",
            "568:\tlearn: 0.3588949\ttotal: 616ms\tremaining: 467ms\n",
            "569:\tlearn: 0.3588707\ttotal: 618ms\tremaining: 466ms\n",
            "570:\tlearn: 0.3587963\ttotal: 620ms\tremaining: 466ms\n",
            "571:\tlearn: 0.3587959\ttotal: 621ms\tremaining: 465ms\n",
            "572:\tlearn: 0.3586941\ttotal: 622ms\tremaining: 464ms\n",
            "573:\tlearn: 0.3586302\ttotal: 623ms\tremaining: 463ms\n",
            "574:\tlearn: 0.3585994\ttotal: 624ms\tremaining: 461ms\n",
            "575:\tlearn: 0.3585034\ttotal: 625ms\tremaining: 460ms\n",
            "576:\tlearn: 0.3583809\ttotal: 626ms\tremaining: 459ms\n",
            "577:\tlearn: 0.3583107\ttotal: 627ms\tremaining: 458ms\n",
            "578:\tlearn: 0.3582464\ttotal: 628ms\tremaining: 457ms\n",
            "579:\tlearn: 0.3582393\ttotal: 629ms\tremaining: 456ms\n",
            "580:\tlearn: 0.3581893\ttotal: 630ms\tremaining: 455ms\n",
            "581:\tlearn: 0.3581414\ttotal: 631ms\tremaining: 453ms\n",
            "582:\tlearn: 0.3580505\ttotal: 632ms\tremaining: 452ms\n",
            "583:\tlearn: 0.3579708\ttotal: 634ms\tremaining: 451ms\n",
            "584:\tlearn: 0.3579294\ttotal: 635ms\tremaining: 451ms\n",
            "585:\tlearn: 0.3579032\ttotal: 636ms\tremaining: 449ms\n",
            "586:\tlearn: 0.3578627\ttotal: 637ms\tremaining: 448ms\n",
            "587:\tlearn: 0.3577863\ttotal: 638ms\tremaining: 447ms\n",
            "588:\tlearn: 0.3576879\ttotal: 639ms\tremaining: 446ms\n",
            "589:\tlearn: 0.3576566\ttotal: 641ms\tremaining: 445ms\n",
            "590:\tlearn: 0.3575868\ttotal: 642ms\tremaining: 444ms\n",
            "591:\tlearn: 0.3574960\ttotal: 643ms\tremaining: 443ms\n",
            "592:\tlearn: 0.3574765\ttotal: 644ms\tremaining: 442ms\n",
            "593:\tlearn: 0.3574058\ttotal: 645ms\tremaining: 441ms\n",
            "594:\tlearn: 0.3573080\ttotal: 646ms\tremaining: 440ms\n",
            "595:\tlearn: 0.3572023\ttotal: 647ms\tremaining: 438ms\n",
            "596:\tlearn: 0.3570588\ttotal: 652ms\tremaining: 440ms\n",
            "597:\tlearn: 0.3569961\ttotal: 653ms\tremaining: 439ms\n",
            "598:\tlearn: 0.3569565\ttotal: 654ms\tremaining: 438ms\n",
            "599:\tlearn: 0.3568720\ttotal: 655ms\tremaining: 437ms\n",
            "600:\tlearn: 0.3568059\ttotal: 656ms\tremaining: 436ms\n",
            "601:\tlearn: 0.3567469\ttotal: 658ms\tremaining: 435ms\n",
            "602:\tlearn: 0.3567414\ttotal: 659ms\tremaining: 434ms\n",
            "603:\tlearn: 0.3566835\ttotal: 660ms\tremaining: 433ms\n",
            "604:\tlearn: 0.3565832\ttotal: 661ms\tremaining: 432ms\n",
            "605:\tlearn: 0.3563949\ttotal: 663ms\tremaining: 431ms\n",
            "606:\tlearn: 0.3562784\ttotal: 664ms\tremaining: 430ms\n",
            "607:\tlearn: 0.3561335\ttotal: 665ms\tremaining: 429ms\n",
            "608:\tlearn: 0.3560821\ttotal: 666ms\tremaining: 427ms\n",
            "609:\tlearn: 0.3559924\ttotal: 667ms\tremaining: 426ms\n",
            "610:\tlearn: 0.3559692\ttotal: 668ms\tremaining: 425ms\n",
            "611:\tlearn: 0.3559320\ttotal: 669ms\tremaining: 424ms\n",
            "612:\tlearn: 0.3557711\ttotal: 670ms\tremaining: 423ms\n",
            "613:\tlearn: 0.3556593\ttotal: 671ms\tremaining: 422ms\n",
            "614:\tlearn: 0.3553825\ttotal: 672ms\tremaining: 421ms\n",
            "615:\tlearn: 0.3553322\ttotal: 673ms\tremaining: 420ms\n",
            "616:\tlearn: 0.3550333\ttotal: 674ms\tremaining: 418ms\n",
            "617:\tlearn: 0.3548154\ttotal: 675ms\tremaining: 417ms\n",
            "618:\tlearn: 0.3547481\ttotal: 676ms\tremaining: 416ms\n",
            "619:\tlearn: 0.3546961\ttotal: 677ms\tremaining: 415ms\n",
            "620:\tlearn: 0.3546874\ttotal: 678ms\tremaining: 414ms\n",
            "621:\tlearn: 0.3546747\ttotal: 679ms\tremaining: 413ms\n",
            "622:\tlearn: 0.3546535\ttotal: 680ms\tremaining: 412ms\n",
            "623:\tlearn: 0.3546123\ttotal: 681ms\tremaining: 411ms\n",
            "624:\tlearn: 0.3545088\ttotal: 682ms\tremaining: 409ms\n",
            "625:\tlearn: 0.3544776\ttotal: 683ms\tremaining: 408ms\n",
            "626:\tlearn: 0.3544024\ttotal: 685ms\tremaining: 407ms\n",
            "627:\tlearn: 0.3543506\ttotal: 686ms\tremaining: 406ms\n",
            "628:\tlearn: 0.3540364\ttotal: 687ms\tremaining: 405ms\n",
            "629:\tlearn: 0.3539589\ttotal: 688ms\tremaining: 404ms\n",
            "630:\tlearn: 0.3538563\ttotal: 689ms\tremaining: 403ms\n",
            "631:\tlearn: 0.3538083\ttotal: 690ms\tremaining: 402ms\n",
            "632:\tlearn: 0.3537483\ttotal: 692ms\tremaining: 401ms\n",
            "633:\tlearn: 0.3536823\ttotal: 693ms\tremaining: 400ms\n",
            "634:\tlearn: 0.3536735\ttotal: 694ms\tremaining: 399ms\n",
            "635:\tlearn: 0.3536654\ttotal: 694ms\tremaining: 397ms\n",
            "636:\tlearn: 0.3536577\ttotal: 696ms\tremaining: 396ms\n",
            "637:\tlearn: 0.3535597\ttotal: 697ms\tremaining: 395ms\n",
            "638:\tlearn: 0.3535004\ttotal: 698ms\tremaining: 394ms\n",
            "639:\tlearn: 0.3534702\ttotal: 699ms\tremaining: 393ms\n",
            "640:\tlearn: 0.3534305\ttotal: 700ms\tremaining: 392ms\n",
            "641:\tlearn: 0.3533894\ttotal: 701ms\tremaining: 391ms\n",
            "642:\tlearn: 0.3533674\ttotal: 702ms\tremaining: 390ms\n",
            "643:\tlearn: 0.3533668\ttotal: 702ms\tremaining: 388ms\n",
            "644:\tlearn: 0.3532573\ttotal: 703ms\tremaining: 387ms\n",
            "645:\tlearn: 0.3532443\ttotal: 704ms\tremaining: 386ms\n",
            "646:\tlearn: 0.3531734\ttotal: 705ms\tremaining: 385ms\n",
            "647:\tlearn: 0.3531350\ttotal: 706ms\tremaining: 384ms\n",
            "648:\tlearn: 0.3530932\ttotal: 708ms\tremaining: 383ms\n",
            "649:\tlearn: 0.3529533\ttotal: 709ms\tremaining: 382ms\n",
            "650:\tlearn: 0.3528860\ttotal: 710ms\tremaining: 380ms\n",
            "651:\tlearn: 0.3527030\ttotal: 711ms\tremaining: 379ms\n",
            "652:\tlearn: 0.3526491\ttotal: 712ms\tremaining: 378ms\n",
            "653:\tlearn: 0.3525791\ttotal: 713ms\tremaining: 377ms\n",
            "654:\tlearn: 0.3525470\ttotal: 714ms\tremaining: 376ms\n",
            "655:\tlearn: 0.3524931\ttotal: 715ms\tremaining: 375ms\n",
            "656:\tlearn: 0.3524221\ttotal: 716ms\tremaining: 374ms\n",
            "657:\tlearn: 0.3524040\ttotal: 717ms\tremaining: 373ms\n",
            "658:\tlearn: 0.3523891\ttotal: 718ms\tremaining: 371ms\n",
            "659:\tlearn: 0.3523172\ttotal: 719ms\tremaining: 370ms\n",
            "660:\tlearn: 0.3521452\ttotal: 720ms\tremaining: 369ms\n",
            "661:\tlearn: 0.3521242\ttotal: 721ms\tremaining: 368ms\n",
            "662:\tlearn: 0.3520700\ttotal: 722ms\tremaining: 367ms\n",
            "663:\tlearn: 0.3520453\ttotal: 723ms\tremaining: 366ms\n",
            "664:\tlearn: 0.3520144\ttotal: 724ms\tremaining: 365ms\n",
            "665:\tlearn: 0.3518514\ttotal: 729ms\tremaining: 366ms\n",
            "666:\tlearn: 0.3517034\ttotal: 731ms\tremaining: 365ms\n",
            "667:\tlearn: 0.3516953\ttotal: 731ms\tremaining: 364ms\n",
            "668:\tlearn: 0.3516351\ttotal: 733ms\tremaining: 363ms\n",
            "669:\tlearn: 0.3516186\ttotal: 736ms\tremaining: 362ms\n",
            "670:\tlearn: 0.3516042\ttotal: 737ms\tremaining: 361ms\n",
            "671:\tlearn: 0.3515077\ttotal: 738ms\tremaining: 360ms\n",
            "672:\tlearn: 0.3514095\ttotal: 739ms\tremaining: 359ms\n",
            "673:\tlearn: 0.3514043\ttotal: 740ms\tremaining: 358ms\n",
            "674:\tlearn: 0.3513252\ttotal: 741ms\tremaining: 357ms\n",
            "675:\tlearn: 0.3511161\ttotal: 742ms\tremaining: 356ms\n",
            "676:\tlearn: 0.3510370\ttotal: 743ms\tremaining: 355ms\n",
            "677:\tlearn: 0.3510263\ttotal: 744ms\tremaining: 354ms\n",
            "678:\tlearn: 0.3509360\ttotal: 745ms\tremaining: 352ms\n",
            "679:\tlearn: 0.3508995\ttotal: 746ms\tremaining: 351ms\n",
            "680:\tlearn: 0.3508915\ttotal: 747ms\tremaining: 350ms\n",
            "681:\tlearn: 0.3508287\ttotal: 748ms\tremaining: 349ms\n",
            "682:\tlearn: 0.3507965\ttotal: 749ms\tremaining: 348ms\n",
            "683:\tlearn: 0.3507776\ttotal: 750ms\tremaining: 347ms\n",
            "684:\tlearn: 0.3507028\ttotal: 751ms\tremaining: 346ms\n",
            "685:\tlearn: 0.3506157\ttotal: 752ms\tremaining: 344ms\n",
            "686:\tlearn: 0.3504940\ttotal: 753ms\tremaining: 343ms\n",
            "687:\tlearn: 0.3504346\ttotal: 754ms\tremaining: 342ms\n",
            "688:\tlearn: 0.3504277\ttotal: 755ms\tremaining: 341ms\n",
            "689:\tlearn: 0.3503634\ttotal: 756ms\tremaining: 340ms\n",
            "690:\tlearn: 0.3502774\ttotal: 758ms\tremaining: 339ms\n",
            "691:\tlearn: 0.3502170\ttotal: 759ms\tremaining: 338ms\n",
            "692:\tlearn: 0.3500811\ttotal: 760ms\tremaining: 337ms\n",
            "693:\tlearn: 0.3497902\ttotal: 761ms\tremaining: 335ms\n",
            "694:\tlearn: 0.3497885\ttotal: 762ms\tremaining: 334ms\n",
            "695:\tlearn: 0.3497562\ttotal: 763ms\tremaining: 333ms\n",
            "696:\tlearn: 0.3497249\ttotal: 764ms\tremaining: 332ms\n",
            "697:\tlearn: 0.3497062\ttotal: 765ms\tremaining: 331ms\n",
            "698:\tlearn: 0.3496936\ttotal: 766ms\tremaining: 330ms\n",
            "699:\tlearn: 0.3496397\ttotal: 767ms\tremaining: 329ms\n",
            "700:\tlearn: 0.3495837\ttotal: 768ms\tremaining: 328ms\n",
            "701:\tlearn: 0.3493819\ttotal: 769ms\tremaining: 326ms\n",
            "702:\tlearn: 0.3493774\ttotal: 770ms\tremaining: 325ms\n",
            "703:\tlearn: 0.3493281\ttotal: 771ms\tremaining: 324ms\n",
            "704:\tlearn: 0.3492564\ttotal: 772ms\tremaining: 323ms\n",
            "705:\tlearn: 0.3491796\ttotal: 773ms\tremaining: 322ms\n",
            "706:\tlearn: 0.3491415\ttotal: 774ms\tremaining: 321ms\n",
            "707:\tlearn: 0.3491002\ttotal: 775ms\tremaining: 320ms\n",
            "708:\tlearn: 0.3490086\ttotal: 776ms\tremaining: 319ms\n",
            "709:\tlearn: 0.3488683\ttotal: 777ms\tremaining: 318ms\n",
            "710:\tlearn: 0.3488053\ttotal: 778ms\tremaining: 316ms\n",
            "711:\tlearn: 0.3487858\ttotal: 780ms\tremaining: 315ms\n",
            "712:\tlearn: 0.3487284\ttotal: 781ms\tremaining: 314ms\n",
            "713:\tlearn: 0.3485889\ttotal: 782ms\tremaining: 313ms\n",
            "714:\tlearn: 0.3484703\ttotal: 783ms\tremaining: 312ms\n",
            "715:\tlearn: 0.3484537\ttotal: 784ms\tremaining: 311ms\n",
            "716:\tlearn: 0.3483067\ttotal: 785ms\tremaining: 310ms\n",
            "717:\tlearn: 0.3480918\ttotal: 786ms\tremaining: 309ms\n",
            "718:\tlearn: 0.3480643\ttotal: 787ms\tremaining: 307ms\n",
            "719:\tlearn: 0.3480582\ttotal: 788ms\tremaining: 306ms\n",
            "720:\tlearn: 0.3479052\ttotal: 789ms\tremaining: 305ms\n",
            "721:\tlearn: 0.3478944\ttotal: 789ms\tremaining: 304ms\n",
            "722:\tlearn: 0.3478308\ttotal: 791ms\tremaining: 303ms\n",
            "723:\tlearn: 0.3478176\ttotal: 792ms\tremaining: 302ms\n",
            "724:\tlearn: 0.3477766\ttotal: 793ms\tremaining: 301ms\n",
            "725:\tlearn: 0.3475410\ttotal: 794ms\tremaining: 300ms\n",
            "726:\tlearn: 0.3475223\ttotal: 795ms\tremaining: 298ms\n",
            "727:\tlearn: 0.3474569\ttotal: 796ms\tremaining: 297ms\n",
            "728:\tlearn: 0.3472295\ttotal: 797ms\tremaining: 296ms\n",
            "729:\tlearn: 0.3470667\ttotal: 798ms\tremaining: 295ms\n",
            "730:\tlearn: 0.3468072\ttotal: 799ms\tremaining: 294ms\n",
            "731:\tlearn: 0.3467873\ttotal: 800ms\tremaining: 293ms\n",
            "732:\tlearn: 0.3467412\ttotal: 801ms\tremaining: 292ms\n",
            "733:\tlearn: 0.3467355\ttotal: 802ms\tremaining: 291ms\n",
            "734:\tlearn: 0.3466485\ttotal: 803ms\tremaining: 290ms\n",
            "735:\tlearn: 0.3465660\ttotal: 804ms\tremaining: 288ms\n",
            "736:\tlearn: 0.3465287\ttotal: 805ms\tremaining: 287ms\n",
            "737:\tlearn: 0.3465217\ttotal: 806ms\tremaining: 286ms\n",
            "738:\tlearn: 0.3465148\ttotal: 807ms\tremaining: 285ms\n",
            "739:\tlearn: 0.3465112\ttotal: 808ms\tremaining: 284ms\n",
            "740:\tlearn: 0.3464718\ttotal: 809ms\tremaining: 283ms\n",
            "741:\tlearn: 0.3464681\ttotal: 810ms\tremaining: 282ms\n",
            "742:\tlearn: 0.3463819\ttotal: 811ms\tremaining: 280ms\n",
            "743:\tlearn: 0.3463417\ttotal: 812ms\tremaining: 279ms\n",
            "744:\tlearn: 0.3463123\ttotal: 813ms\tremaining: 278ms\n",
            "745:\tlearn: 0.3461954\ttotal: 814ms\tremaining: 277ms\n",
            "746:\tlearn: 0.3461609\ttotal: 815ms\tremaining: 276ms\n",
            "747:\tlearn: 0.3460231\ttotal: 816ms\tremaining: 275ms\n",
            "748:\tlearn: 0.3459282\ttotal: 817ms\tremaining: 274ms\n",
            "749:\tlearn: 0.3459089\ttotal: 818ms\tremaining: 273ms\n",
            "750:\tlearn: 0.3458221\ttotal: 819ms\tremaining: 272ms\n",
            "751:\tlearn: 0.3456632\ttotal: 820ms\tremaining: 271ms\n",
            "752:\tlearn: 0.3455082\ttotal: 822ms\tremaining: 269ms\n",
            "753:\tlearn: 0.3454367\ttotal: 823ms\tremaining: 268ms\n",
            "754:\tlearn: 0.3452804\ttotal: 824ms\tremaining: 267ms\n",
            "755:\tlearn: 0.3452226\ttotal: 825ms\tremaining: 266ms\n",
            "756:\tlearn: 0.3451654\ttotal: 826ms\tremaining: 265ms\n",
            "757:\tlearn: 0.3449809\ttotal: 827ms\tremaining: 264ms\n",
            "758:\tlearn: 0.3448869\ttotal: 828ms\tremaining: 263ms\n",
            "759:\tlearn: 0.3448514\ttotal: 829ms\tremaining: 262ms\n",
            "760:\tlearn: 0.3447885\ttotal: 830ms\tremaining: 261ms\n",
            "761:\tlearn: 0.3447176\ttotal: 831ms\tremaining: 260ms\n",
            "762:\tlearn: 0.3446968\ttotal: 832ms\tremaining: 258ms\n",
            "763:\tlearn: 0.3446846\ttotal: 833ms\tremaining: 257ms\n",
            "764:\tlearn: 0.3445045\ttotal: 834ms\tremaining: 256ms\n",
            "765:\tlearn: 0.3444969\ttotal: 835ms\tremaining: 255ms\n",
            "766:\tlearn: 0.3444470\ttotal: 836ms\tremaining: 254ms\n",
            "767:\tlearn: 0.3443792\ttotal: 837ms\tremaining: 253ms\n",
            "768:\tlearn: 0.3442891\ttotal: 839ms\tremaining: 252ms\n",
            "769:\tlearn: 0.3442609\ttotal: 840ms\tremaining: 251ms\n",
            "770:\tlearn: 0.3440371\ttotal: 841ms\tremaining: 250ms\n",
            "771:\tlearn: 0.3437882\ttotal: 842ms\tremaining: 249ms\n",
            "772:\tlearn: 0.3437390\ttotal: 843ms\tremaining: 247ms\n",
            "773:\tlearn: 0.3437018\ttotal: 844ms\tremaining: 246ms\n",
            "774:\tlearn: 0.3435518\ttotal: 845ms\tremaining: 245ms\n",
            "775:\tlearn: 0.3435357\ttotal: 846ms\tremaining: 244ms\n",
            "776:\tlearn: 0.3434731\ttotal: 847ms\tremaining: 243ms\n",
            "777:\tlearn: 0.3434193\ttotal: 848ms\tremaining: 242ms\n",
            "778:\tlearn: 0.3431351\ttotal: 849ms\tremaining: 241ms\n",
            "779:\tlearn: 0.3430755\ttotal: 850ms\tremaining: 240ms\n",
            "780:\tlearn: 0.3430220\ttotal: 851ms\tremaining: 239ms\n",
            "781:\tlearn: 0.3429689\ttotal: 852ms\tremaining: 238ms\n",
            "782:\tlearn: 0.3429246\ttotal: 853ms\tremaining: 236ms\n",
            "783:\tlearn: 0.3428153\ttotal: 854ms\tremaining: 235ms\n",
            "784:\tlearn: 0.3426642\ttotal: 855ms\tremaining: 234ms\n",
            "785:\tlearn: 0.3425571\ttotal: 856ms\tremaining: 233ms\n",
            "786:\tlearn: 0.3424483\ttotal: 857ms\tremaining: 232ms\n",
            "787:\tlearn: 0.3422729\ttotal: 858ms\tremaining: 231ms\n",
            "788:\tlearn: 0.3421736\ttotal: 859ms\tremaining: 230ms\n",
            "789:\tlearn: 0.3421636\ttotal: 860ms\tremaining: 229ms\n",
            "790:\tlearn: 0.3420972\ttotal: 861ms\tremaining: 228ms\n",
            "791:\tlearn: 0.3420491\ttotal: 862ms\tremaining: 227ms\n",
            "792:\tlearn: 0.3420416\ttotal: 863ms\tremaining: 225ms\n",
            "793:\tlearn: 0.3420039\ttotal: 864ms\tremaining: 224ms\n",
            "794:\tlearn: 0.3419412\ttotal: 865ms\tremaining: 223ms\n",
            "795:\tlearn: 0.3419184\ttotal: 866ms\tremaining: 222ms\n",
            "796:\tlearn: 0.3417621\ttotal: 868ms\tremaining: 221ms\n",
            "797:\tlearn: 0.3416261\ttotal: 869ms\tremaining: 220ms\n",
            "798:\tlearn: 0.3414037\ttotal: 870ms\tremaining: 219ms\n",
            "799:\tlearn: 0.3412135\ttotal: 871ms\tremaining: 218ms\n",
            "800:\tlearn: 0.3411903\ttotal: 872ms\tremaining: 217ms\n",
            "801:\tlearn: 0.3411332\ttotal: 873ms\tremaining: 215ms\n",
            "802:\tlearn: 0.3410136\ttotal: 874ms\tremaining: 214ms\n",
            "803:\tlearn: 0.3410024\ttotal: 875ms\tremaining: 213ms\n",
            "804:\tlearn: 0.3409928\ttotal: 876ms\tremaining: 212ms\n",
            "805:\tlearn: 0.3409765\ttotal: 877ms\tremaining: 211ms\n",
            "806:\tlearn: 0.3409629\ttotal: 878ms\tremaining: 210ms\n",
            "807:\tlearn: 0.3409194\ttotal: 879ms\tremaining: 209ms\n",
            "808:\tlearn: 0.3407276\ttotal: 880ms\tremaining: 208ms\n",
            "809:\tlearn: 0.3405477\ttotal: 881ms\tremaining: 207ms\n",
            "810:\tlearn: 0.3404129\ttotal: 882ms\tremaining: 206ms\n",
            "811:\tlearn: 0.3403021\ttotal: 883ms\tremaining: 204ms\n",
            "812:\tlearn: 0.3402829\ttotal: 884ms\tremaining: 203ms\n",
            "813:\tlearn: 0.3402349\ttotal: 885ms\tremaining: 202ms\n",
            "814:\tlearn: 0.3401502\ttotal: 886ms\tremaining: 201ms\n",
            "815:\tlearn: 0.3400888\ttotal: 888ms\tremaining: 200ms\n",
            "816:\tlearn: 0.3400349\ttotal: 889ms\tremaining: 199ms\n",
            "817:\tlearn: 0.3400226\ttotal: 890ms\tremaining: 198ms\n",
            "818:\tlearn: 0.3399258\ttotal: 891ms\tremaining: 197ms\n",
            "819:\tlearn: 0.3398435\ttotal: 892ms\tremaining: 196ms\n",
            "820:\tlearn: 0.3397747\ttotal: 894ms\tremaining: 195ms\n",
            "821:\tlearn: 0.3395436\ttotal: 895ms\tremaining: 194ms\n",
            "822:\tlearn: 0.3393595\ttotal: 897ms\tremaining: 193ms\n",
            "823:\tlearn: 0.3391612\ttotal: 898ms\tremaining: 192ms\n",
            "824:\tlearn: 0.3390033\ttotal: 899ms\tremaining: 191ms\n",
            "825:\tlearn: 0.3388130\ttotal: 900ms\tremaining: 190ms\n",
            "826:\tlearn: 0.3386701\ttotal: 901ms\tremaining: 189ms\n",
            "827:\tlearn: 0.3386208\ttotal: 903ms\tremaining: 188ms\n",
            "828:\tlearn: 0.3385732\ttotal: 904ms\tremaining: 187ms\n",
            "829:\tlearn: 0.3384935\ttotal: 905ms\tremaining: 185ms\n",
            "830:\tlearn: 0.3384030\ttotal: 906ms\tremaining: 184ms\n",
            "831:\tlearn: 0.3383660\ttotal: 907ms\tremaining: 183ms\n",
            "832:\tlearn: 0.3382818\ttotal: 908ms\tremaining: 182ms\n",
            "833:\tlearn: 0.3381046\ttotal: 910ms\tremaining: 181ms\n",
            "834:\tlearn: 0.3379454\ttotal: 911ms\tremaining: 180ms\n",
            "835:\tlearn: 0.3379140\ttotal: 912ms\tremaining: 179ms\n",
            "836:\tlearn: 0.3378524\ttotal: 913ms\tremaining: 178ms\n",
            "837:\tlearn: 0.3378315\ttotal: 916ms\tremaining: 177ms\n",
            "838:\tlearn: 0.3378080\ttotal: 917ms\tremaining: 176ms\n",
            "839:\tlearn: 0.3376217\ttotal: 918ms\tremaining: 175ms\n",
            "840:\tlearn: 0.3375523\ttotal: 920ms\tremaining: 174ms\n",
            "841:\tlearn: 0.3374603\ttotal: 922ms\tremaining: 173ms\n",
            "842:\tlearn: 0.3374035\ttotal: 924ms\tremaining: 172ms\n",
            "843:\tlearn: 0.3373189\ttotal: 925ms\tremaining: 171ms\n",
            "844:\tlearn: 0.3371101\ttotal: 926ms\tremaining: 170ms\n",
            "845:\tlearn: 0.3370796\ttotal: 927ms\tremaining: 169ms\n",
            "846:\tlearn: 0.3369933\ttotal: 928ms\tremaining: 168ms\n",
            "847:\tlearn: 0.3368192\ttotal: 929ms\tremaining: 167ms\n",
            "848:\tlearn: 0.3367645\ttotal: 931ms\tremaining: 165ms\n",
            "849:\tlearn: 0.3367486\ttotal: 931ms\tremaining: 164ms\n",
            "850:\tlearn: 0.3366244\ttotal: 933ms\tremaining: 163ms\n",
            "851:\tlearn: 0.3365589\ttotal: 934ms\tremaining: 162ms\n",
            "852:\tlearn: 0.3365176\ttotal: 935ms\tremaining: 161ms\n",
            "853:\tlearn: 0.3364497\ttotal: 936ms\tremaining: 160ms\n",
            "854:\tlearn: 0.3364026\ttotal: 937ms\tremaining: 159ms\n",
            "855:\tlearn: 0.3362986\ttotal: 938ms\tremaining: 158ms\n",
            "856:\tlearn: 0.3362361\ttotal: 939ms\tremaining: 157ms\n",
            "857:\tlearn: 0.3362112\ttotal: 940ms\tremaining: 156ms\n",
            "858:\tlearn: 0.3361114\ttotal: 941ms\tremaining: 155ms\n",
            "859:\tlearn: 0.3360268\ttotal: 942ms\tremaining: 153ms\n",
            "860:\tlearn: 0.3359378\ttotal: 944ms\tremaining: 152ms\n",
            "861:\tlearn: 0.3357260\ttotal: 945ms\tremaining: 151ms\n",
            "862:\tlearn: 0.3357205\ttotal: 945ms\tremaining: 150ms\n",
            "863:\tlearn: 0.3356777\ttotal: 946ms\tremaining: 149ms\n",
            "864:\tlearn: 0.3355001\ttotal: 947ms\tremaining: 148ms\n",
            "865:\tlearn: 0.3354482\ttotal: 949ms\tremaining: 147ms\n",
            "866:\tlearn: 0.3353200\ttotal: 950ms\tremaining: 146ms\n",
            "867:\tlearn: 0.3352618\ttotal: 951ms\tremaining: 145ms\n",
            "868:\tlearn: 0.3350932\ttotal: 952ms\tremaining: 143ms\n",
            "869:\tlearn: 0.3350344\ttotal: 953ms\tremaining: 142ms\n",
            "870:\tlearn: 0.3349916\ttotal: 954ms\tremaining: 141ms\n",
            "871:\tlearn: 0.3349388\ttotal: 955ms\tremaining: 140ms\n",
            "872:\tlearn: 0.3348926\ttotal: 956ms\tremaining: 139ms\n",
            "873:\tlearn: 0.3348424\ttotal: 957ms\tremaining: 138ms\n",
            "874:\tlearn: 0.3347875\ttotal: 958ms\tremaining: 137ms\n",
            "875:\tlearn: 0.3347731\ttotal: 959ms\tremaining: 136ms\n",
            "876:\tlearn: 0.3347346\ttotal: 960ms\tremaining: 135ms\n",
            "877:\tlearn: 0.3346980\ttotal: 961ms\tremaining: 134ms\n",
            "878:\tlearn: 0.3345799\ttotal: 962ms\tremaining: 132ms\n",
            "879:\tlearn: 0.3344867\ttotal: 963ms\tremaining: 131ms\n",
            "880:\tlearn: 0.3344167\ttotal: 964ms\tremaining: 130ms\n",
            "881:\tlearn: 0.3342443\ttotal: 965ms\tremaining: 129ms\n",
            "882:\tlearn: 0.3341237\ttotal: 967ms\tremaining: 128ms\n",
            "883:\tlearn: 0.3340544\ttotal: 968ms\tremaining: 127ms\n",
            "884:\tlearn: 0.3339617\ttotal: 969ms\tremaining: 126ms\n",
            "885:\tlearn: 0.3339064\ttotal: 970ms\tremaining: 125ms\n",
            "886:\tlearn: 0.3338373\ttotal: 971ms\tremaining: 124ms\n",
            "887:\tlearn: 0.3338259\ttotal: 972ms\tremaining: 123ms\n",
            "888:\tlearn: 0.3338196\ttotal: 973ms\tremaining: 121ms\n",
            "889:\tlearn: 0.3337870\ttotal: 974ms\tremaining: 120ms\n",
            "890:\tlearn: 0.3337015\ttotal: 975ms\tremaining: 119ms\n",
            "891:\tlearn: 0.3336662\ttotal: 976ms\tremaining: 118ms\n",
            "892:\tlearn: 0.3336074\ttotal: 977ms\tremaining: 117ms\n",
            "893:\tlearn: 0.3335793\ttotal: 978ms\tremaining: 116ms\n",
            "894:\tlearn: 0.3334896\ttotal: 979ms\tremaining: 115ms\n",
            "895:\tlearn: 0.3334255\ttotal: 980ms\tremaining: 114ms\n",
            "896:\tlearn: 0.3332243\ttotal: 982ms\tremaining: 113ms\n",
            "897:\tlearn: 0.3332017\ttotal: 983ms\tremaining: 112ms\n",
            "898:\tlearn: 0.3331815\ttotal: 984ms\tremaining: 111ms\n",
            "899:\tlearn: 0.3331402\ttotal: 985ms\tremaining: 109ms\n",
            "900:\tlearn: 0.3330296\ttotal: 986ms\tremaining: 108ms\n",
            "901:\tlearn: 0.3329837\ttotal: 987ms\tremaining: 107ms\n",
            "902:\tlearn: 0.3328809\ttotal: 988ms\tremaining: 106ms\n",
            "903:\tlearn: 0.3327049\ttotal: 989ms\tremaining: 105ms\n",
            "904:\tlearn: 0.3324758\ttotal: 990ms\tremaining: 104ms\n",
            "905:\tlearn: 0.3324100\ttotal: 991ms\tremaining: 103ms\n",
            "906:\tlearn: 0.3322887\ttotal: 992ms\tremaining: 102ms\n",
            "907:\tlearn: 0.3322499\ttotal: 993ms\tremaining: 101ms\n",
            "908:\tlearn: 0.3322304\ttotal: 994ms\tremaining: 99.5ms\n",
            "909:\tlearn: 0.3321671\ttotal: 995ms\tremaining: 98.4ms\n",
            "910:\tlearn: 0.3321100\ttotal: 996ms\tremaining: 97.3ms\n",
            "911:\tlearn: 0.3319142\ttotal: 997ms\tremaining: 96.2ms\n",
            "912:\tlearn: 0.3317267\ttotal: 998ms\tremaining: 95.1ms\n",
            "913:\tlearn: 0.3317052\ttotal: 1000ms\tremaining: 94ms\n",
            "914:\tlearn: 0.3315793\ttotal: 1s\tremaining: 92.9ms\n",
            "915:\tlearn: 0.3315300\ttotal: 1s\tremaining: 91.8ms\n",
            "916:\tlearn: 0.3314464\ttotal: 1s\tremaining: 90.8ms\n",
            "917:\tlearn: 0.3313597\ttotal: 1s\tremaining: 89.7ms\n",
            "918:\tlearn: 0.3313356\ttotal: 1s\tremaining: 88.6ms\n",
            "919:\tlearn: 0.3312784\ttotal: 1s\tremaining: 87.5ms\n",
            "920:\tlearn: 0.3312461\ttotal: 1.01s\tremaining: 86.4ms\n",
            "921:\tlearn: 0.3311555\ttotal: 1.01s\tremaining: 85.3ms\n",
            "922:\tlearn: 0.3311198\ttotal: 1.01s\tremaining: 84.2ms\n",
            "923:\tlearn: 0.3310568\ttotal: 1.01s\tremaining: 83.1ms\n",
            "924:\tlearn: 0.3308993\ttotal: 1.01s\tremaining: 82ms\n",
            "925:\tlearn: 0.3308238\ttotal: 1.01s\tremaining: 80.9ms\n",
            "926:\tlearn: 0.3307846\ttotal: 1.01s\tremaining: 79.8ms\n",
            "927:\tlearn: 0.3307120\ttotal: 1.01s\tremaining: 78.7ms\n",
            "928:\tlearn: 0.3304957\ttotal: 1.01s\tremaining: 77.6ms\n",
            "929:\tlearn: 0.3303500\ttotal: 1.02s\tremaining: 76.5ms\n",
            "930:\tlearn: 0.3303044\ttotal: 1.02s\tremaining: 75.4ms\n",
            "931:\tlearn: 0.3302450\ttotal: 1.02s\tremaining: 74.3ms\n",
            "932:\tlearn: 0.3301652\ttotal: 1.02s\tremaining: 73.2ms\n",
            "933:\tlearn: 0.3300154\ttotal: 1.02s\tremaining: 72.2ms\n",
            "934:\tlearn: 0.3299633\ttotal: 1.02s\tremaining: 71.1ms\n",
            "935:\tlearn: 0.3297782\ttotal: 1.02s\tremaining: 70ms\n",
            "936:\tlearn: 0.3296116\ttotal: 1.02s\tremaining: 68.9ms\n",
            "937:\tlearn: 0.3295544\ttotal: 1.02s\tremaining: 67.8ms\n",
            "938:\tlearn: 0.3293738\ttotal: 1.03s\tremaining: 66.7ms\n",
            "939:\tlearn: 0.3291815\ttotal: 1.03s\tremaining: 65.6ms\n",
            "940:\tlearn: 0.3291544\ttotal: 1.03s\tremaining: 64.5ms\n",
            "941:\tlearn: 0.3291082\ttotal: 1.03s\tremaining: 63.4ms\n",
            "942:\tlearn: 0.3290294\ttotal: 1.03s\tremaining: 62.4ms\n",
            "943:\tlearn: 0.3289098\ttotal: 1.03s\tremaining: 61.3ms\n",
            "944:\tlearn: 0.3287144\ttotal: 1.03s\tremaining: 60.2ms\n",
            "945:\tlearn: 0.3287032\ttotal: 1.03s\tremaining: 59.1ms\n",
            "946:\tlearn: 0.3286696\ttotal: 1.04s\tremaining: 58ms\n",
            "947:\tlearn: 0.3286429\ttotal: 1.04s\tremaining: 56.9ms\n",
            "948:\tlearn: 0.3284775\ttotal: 1.04s\tremaining: 55.9ms\n",
            "949:\tlearn: 0.3284111\ttotal: 1.04s\tremaining: 54.9ms\n",
            "950:\tlearn: 0.3283229\ttotal: 1.04s\tremaining: 53.8ms\n",
            "951:\tlearn: 0.3282720\ttotal: 1.04s\tremaining: 52.7ms\n",
            "952:\tlearn: 0.3282277\ttotal: 1.05s\tremaining: 51.6ms\n",
            "953:\tlearn: 0.3281645\ttotal: 1.05s\tremaining: 50.5ms\n",
            "954:\tlearn: 0.3281491\ttotal: 1.05s\tremaining: 49.4ms\n",
            "955:\tlearn: 0.3281417\ttotal: 1.05s\tremaining: 48.3ms\n",
            "956:\tlearn: 0.3280771\ttotal: 1.05s\tremaining: 47.2ms\n",
            "957:\tlearn: 0.3280542\ttotal: 1.05s\tremaining: 46.1ms\n",
            "958:\tlearn: 0.3278785\ttotal: 1.05s\tremaining: 45.1ms\n",
            "959:\tlearn: 0.3278587\ttotal: 1.05s\tremaining: 44ms\n",
            "960:\tlearn: 0.3278160\ttotal: 1.06s\tremaining: 42.9ms\n",
            "961:\tlearn: 0.3277705\ttotal: 1.06s\tremaining: 41.8ms\n",
            "962:\tlearn: 0.3276913\ttotal: 1.06s\tremaining: 40.7ms\n",
            "963:\tlearn: 0.3275747\ttotal: 1.06s\tremaining: 39.6ms\n",
            "964:\tlearn: 0.3275520\ttotal: 1.06s\tremaining: 38.5ms\n",
            "965:\tlearn: 0.3274991\ttotal: 1.06s\tremaining: 37.4ms\n",
            "966:\tlearn: 0.3274635\ttotal: 1.06s\tremaining: 36.3ms\n",
            "967:\tlearn: 0.3274010\ttotal: 1.06s\tremaining: 35.2ms\n",
            "968:\tlearn: 0.3273781\ttotal: 1.06s\tremaining: 34.1ms\n",
            "969:\tlearn: 0.3272939\ttotal: 1.07s\tremaining: 33ms\n",
            "970:\tlearn: 0.3271708\ttotal: 1.07s\tremaining: 31.9ms\n",
            "971:\tlearn: 0.3270675\ttotal: 1.07s\tremaining: 30.8ms\n",
            "972:\tlearn: 0.3268778\ttotal: 1.07s\tremaining: 29.7ms\n",
            "973:\tlearn: 0.3268342\ttotal: 1.07s\tremaining: 28.6ms\n",
            "974:\tlearn: 0.3268063\ttotal: 1.07s\tremaining: 27.5ms\n",
            "975:\tlearn: 0.3267541\ttotal: 1.07s\tremaining: 26.4ms\n",
            "976:\tlearn: 0.3266873\ttotal: 1.07s\tremaining: 25.3ms\n",
            "977:\tlearn: 0.3266411\ttotal: 1.07s\tremaining: 24.2ms\n",
            "978:\tlearn: 0.3266087\ttotal: 1.08s\tremaining: 23.1ms\n",
            "979:\tlearn: 0.3265763\ttotal: 1.08s\tremaining: 22ms\n",
            "980:\tlearn: 0.3265459\ttotal: 1.08s\tremaining: 20.9ms\n",
            "981:\tlearn: 0.3265103\ttotal: 1.08s\tremaining: 19.8ms\n",
            "982:\tlearn: 0.3263658\ttotal: 1.08s\tremaining: 18.7ms\n",
            "983:\tlearn: 0.3261999\ttotal: 1.08s\tremaining: 17.6ms\n",
            "984:\tlearn: 0.3261518\ttotal: 1.08s\tremaining: 16.5ms\n",
            "985:\tlearn: 0.3261090\ttotal: 1.08s\tremaining: 15.4ms\n",
            "986:\tlearn: 0.3260861\ttotal: 1.09s\tremaining: 14.3ms\n",
            "987:\tlearn: 0.3259133\ttotal: 1.09s\tremaining: 13.2ms\n",
            "988:\tlearn: 0.3258508\ttotal: 1.09s\tremaining: 12.1ms\n",
            "989:\tlearn: 0.3256880\ttotal: 1.09s\tremaining: 11ms\n",
            "990:\tlearn: 0.3256297\ttotal: 1.09s\tremaining: 9.91ms\n",
            "991:\tlearn: 0.3256051\ttotal: 1.09s\tremaining: 8.81ms\n",
            "992:\tlearn: 0.3255365\ttotal: 1.09s\tremaining: 7.71ms\n",
            "993:\tlearn: 0.3254163\ttotal: 1.1s\tremaining: 6.63ms\n",
            "994:\tlearn: 0.3254080\ttotal: 1.1s\tremaining: 5.52ms\n",
            "995:\tlearn: 0.3254013\ttotal: 1.1s\tremaining: 4.42ms\n",
            "996:\tlearn: 0.3253406\ttotal: 1.1s\tremaining: 3.31ms\n",
            "997:\tlearn: 0.3253357\ttotal: 1.1s\tremaining: 2.21ms\n",
            "998:\tlearn: 0.3253038\ttotal: 1.1s\tremaining: 1.1ms\n",
            "999:\tlearn: 0.3252773\ttotal: 1.1s\tremaining: 0us\n"
          ],
          "name": "stdout"
        },
        {
          "output_type": "execute_result",
          "data": {
            "text/plain": [
              "<catboost.core.CatBoostClassifier at 0x7f0e1243d2d0>"
            ]
          },
          "metadata": {
            "tags": []
          },
          "execution_count": 51
        }
      ]
    },
    {
      "cell_type": "code",
      "metadata": {
        "colab": {
          "base_uri": "https://localhost:8080/"
        },
        "id": "RvJoSpzByhTy",
        "outputId": "d93daece-f6c0-4237-f0f8-5976374781b8"
      },
      "source": [
        "cross_val_accuracies = cross_val_score(CB_Classifier, X_train, y_train, cv = 10, n_jobs = -1)\n",
        "\n",
        "print(\"Accuracy(Cross Validation): {:.2f}%\".format(cross_val_accuracies.mean()*100))\n",
        "print(\"Standard Deviation: {:.2f}%\".format(cross_val_accuracies.std()*100))\n",
        "\n",
        "\n"
      ],
      "execution_count": null,
      "outputs": [
        {
          "output_type": "stream",
          "text": [
            "Accuracy(Cross Validation): 82.15%\n",
            "Standard Deviation: 3.80%\n"
          ],
          "name": "stdout"
        }
      ]
    },
    {
      "cell_type": "markdown",
      "metadata": {
        "id": "UuYzauzpx2U4"
      },
      "source": [
        "## Testing the model on the Validation set"
      ]
    },
    {
      "cell_type": "code",
      "metadata": {
        "id": "Xdx8VcXHyqE-"
      },
      "source": [
        "val_pred_CB = CB_Classifier.predict(X_val)"
      ],
      "execution_count": null,
      "outputs": []
    },
    {
      "cell_type": "code",
      "metadata": {
        "colab": {
          "base_uri": "https://localhost:8080/"
        },
        "id": "Q-RuXnAXxyf3",
        "outputId": "6c812ae1-cd21-492a-cfe0-a0ff5a062f4e"
      },
      "source": [
        "cm = confusion_matrix(y_val, val_pred_CB)\n",
        "accuracy = accuracy_score(y_val, val_pred_CB)\n",
        "\n",
        "cross_val_accuracies = cross_val_score(CB_Classifier, X_val, y_val, cv = 10, n_jobs = -1)\n",
        "\n",
        "print(cm)\n",
        "print(\"Accuracy(Regular): {:.2f}\".format(accuracy*100))\n",
        "print(\"Accuracy(Cross Validation): {:.2f}%\".format(cross_val_accuracies.mean()*100))\n",
        "print(\"Standard Deviation: {:.2f}%\".format(cross_val_accuracies.std()*100))\n",
        "\n",
        "\n",
        "all_scores[\"CatBoost\"] = cross_val_accuracies.mean()-cross_val_accuracies.std()"
      ],
      "execution_count": null,
      "outputs": [
        {
          "output_type": "stream",
          "text": [
            "[[53 10]\n",
            " [11 16]]\n",
            "Accuracy(Regular): 76.67\n",
            "Accuracy(Cross Validation): 78.89%\n",
            "Standard Deviation: 11.60%\n"
          ],
          "name": "stdout"
        }
      ]
    },
    {
      "cell_type": "markdown",
      "metadata": {
        "id": "TxNniKmrBHVG"
      },
      "source": [
        "# Kernel SVM"
      ]
    },
    {
      "cell_type": "markdown",
      "metadata": {
        "id": "7_1l4ndTDrN1"
      },
      "source": [
        "## Creating KSVM Model"
      ]
    },
    {
      "cell_type": "code",
      "metadata": {
        "colab": {
          "base_uri": "https://localhost:8080/"
        },
        "id": "YqQpTpKeDq1Z",
        "outputId": "e11cdeb8-413c-4a99-9214-8a45dcf670f7"
      },
      "source": [
        "from sklearn.svm import SVC\n",
        "SVM_Classifier = SVC(kernel = 'rbf', random_state = 0)\n",
        "SVM_Classifier.fit(X_train, y_train)"
      ],
      "execution_count": null,
      "outputs": [
        {
          "output_type": "execute_result",
          "data": {
            "text/plain": [
              "SVC(C=1.0, break_ties=False, cache_size=200, class_weight=None, coef0=0.0,\n",
              "    decision_function_shape='ovr', degree=3, gamma='scale', kernel='rbf',\n",
              "    max_iter=-1, probability=False, random_state=0, shrinking=True, tol=0.001,\n",
              "    verbose=False)"
            ]
          },
          "metadata": {
            "tags": []
          },
          "execution_count": 73
        }
      ]
    },
    {
      "cell_type": "markdown",
      "metadata": {
        "id": "lbwlAHCSDrkz"
      },
      "source": [
        "## Testing on Validation Set"
      ]
    },
    {
      "cell_type": "code",
      "metadata": {
        "id": "CeRxulHoDr7z"
      },
      "source": [
        "val_pred_SVM = SVM_Classifier.predict(X_val)"
      ],
      "execution_count": null,
      "outputs": []
    },
    {
      "cell_type": "code",
      "metadata": {
        "colab": {
          "base_uri": "https://localhost:8080/"
        },
        "id": "kFNVc9iwC5e0",
        "outputId": "da62cc76-cb3f-49bf-989b-9c53391346d4"
      },
      "source": [
        "cm = confusion_matrix(y_val, val_pred_XGB)\n",
        "accuracy = accuracy_score(y_val, val_pred_XGB)\n",
        "\n",
        "cross_val_accuracies = cross_val_score(XGB_Classifier, X_val, y_val, cv = 10, n_jobs = -1)\n",
        "\n",
        "print(cm)\n",
        "print(\"Accuracy(Regular): {:.2f}\".format(accuracy*100))\n",
        "print(\"Accuracy(Cross Validation): {:.2f}%\".format(cross_val_accuracies.mean()*100))\n",
        "print(\"Standard Deviation: {:.2f}%\".format(cross_val_accuracies.std()*100))\n",
        "\n",
        "\n",
        "all_scores[\"Kernel SVM\"] = cross_val_accuracies.mean()-cross_val_accuracies.std()"
      ],
      "execution_count": null,
      "outputs": [
        {
          "output_type": "stream",
          "text": [
            "[[58  5]\n",
            " [12 15]]\n",
            "Accuracy(Regular): 81.11\n",
            "Accuracy(Cross Validation): 77.78%\n",
            "Standard Deviation: 13.15%\n"
          ],
          "name": "stdout"
        }
      ]
    },
    {
      "cell_type": "markdown",
      "metadata": {
        "id": "xhoaCioX6AgK"
      },
      "source": [
        "## Hyperparameter Tuning\n"
      ]
    },
    {
      "cell_type": "code",
      "metadata": {
        "colab": {
          "base_uri": "https://localhost:8080/"
        },
        "id": "veyowAmH6Fd_",
        "outputId": "c0144d76-5723-4bc4-d025-58411a3c1f2a"
      },
      "source": [
        "from sklearn.model_selection import GridSearchCV\n",
        "parameters = [{'C': [0.1, 0.2, 0.25, 0.3, 0.35,0.4, 0.45, 0.5, 0.6, 0.75, 1], 'kernel': ['linear']},\n",
        "              {'C': [0.1, 0.2, 0.25, 0.3, 0.35,0.4, 0.45, 0.5, 0.6, 0.75, 1], 'kernel': ['rbf'], 'gamma': [0.1, 0.2, 0.3, 0.4, 0.5, 0.6, 0.7, 0.8, 0.9]}]\n",
        "SVM_Classifier = GridSearchCV(estimator = SVM_Classifier,\n",
        "                           param_grid = parameters,\n",
        "                           scoring = 'accuracy',\n",
        "                           cv = 10,\n",
        "                           n_jobs = -1)\n",
        "SVM_Classifier.fit(X_train, y_train)\n",
        "best_accuracy = SVM_Classifier.best_score_\n",
        "best_parameters = SVM_Classifier.best_params_\n",
        "print(\"Best Accuracy: {:.2f} %\".format(best_accuracy*100))\n",
        "print(\"Best Parameters:\", best_parameters)"
      ],
      "execution_count": null,
      "outputs": [
        {
          "output_type": "stream",
          "text": [
            "Best Accuracy: 82.40 %\n",
            "Best Parameters: {'C': 0.25, 'gamma': 0.4, 'kernel': 'rbf'}\n"
          ],
          "name": "stdout"
        }
      ]
    },
    {
      "cell_type": "markdown",
      "metadata": {
        "id": "qfc_lptwDwu7"
      },
      "source": [
        "# Creating Test Set Predictions on Winner"
      ]
    },
    {
      "cell_type": "code",
      "metadata": {
        "colab": {
          "base_uri": "https://localhost:8080/"
        },
        "id": "EZCZi1p_0l95",
        "outputId": "f627165b-8bbb-4cb7-e7aa-6128539780ca"
      },
      "source": [
        "print(all_scores)"
      ],
      "execution_count": null,
      "outputs": [
        {
          "output_type": "stream",
          "text": [
            "{'Random Forest': 0.6560616538877408, 'Decision Tree': 0.6466893447651921, 'XGBClassifier': 0.7687795604723556, 'XGBRFClassifier': 0.6560616538877407, 'CatBoost': 0.6728854832343271, 'Kernel SVM': 0.6463093381533418}\n"
          ],
          "name": "stdout"
        }
      ]
    },
    {
      "cell_type": "code",
      "metadata": {
        "colab": {
          "base_uri": "https://localhost:8080/"
        },
        "id": "4YIlfZSXZkfQ",
        "outputId": "40a4cbec-67e3-4a68-958a-b2309375b4f6"
      },
      "source": [
        "prediction = SVM_Classifier.predict(X_test)\n",
        "prediction"
      ],
      "execution_count": null,
      "outputs": [
        {
          "output_type": "execute_result",
          "data": {
            "text/plain": [
              "array([0, 1, 0, 0, 1, 0, 1, 0, 1, 0, 0, 0, 1, 0, 1, 1, 0, 0, 1, 1, 0, 1,\n",
              "       1, 0, 1, 0, 1, 0, 0, 0, 0, 0, 0, 0, 0, 0, 1, 1, 0, 0, 0, 0, 0, 1,\n",
              "       1, 0, 0, 0, 1, 1, 0, 0, 1, 1, 0, 0, 0, 0, 0, 1, 0, 0, 0, 1, 1, 1,\n",
              "       1, 0, 0, 0, 1, 0, 1, 0, 1, 0, 0, 1, 0, 1, 1, 0, 0, 0, 0, 0, 1, 1,\n",
              "       1, 1, 1, 0, 1, 0, 0, 0, 1, 0, 1, 0, 1, 0, 0, 0, 1, 0, 0, 0, 0, 0,\n",
              "       0, 1, 1, 1, 1, 0, 0, 1, 0, 1, 1, 0, 1, 0, 0, 1, 0, 0, 0, 0, 0, 0,\n",
              "       0, 0, 0, 0, 0, 0, 1, 0, 0, 1, 0, 0, 0, 0, 0, 0, 0, 0, 1, 0, 0, 1,\n",
              "       0, 0, 1, 1, 0, 1, 1, 1, 1, 0, 0, 1, 0, 0, 1, 1, 0, 0, 0, 0, 0, 1,\n",
              "       1, 0, 1, 1, 0, 0, 1, 0, 1, 0, 1, 0, 0, 0, 0, 0, 0, 0, 1, 0, 1, 1,\n",
              "       0, 1, 1, 1, 0, 1, 0, 0, 1, 0, 1, 0, 0, 0, 0, 1, 0, 0, 1, 0, 1, 0,\n",
              "       1, 0, 1, 0, 1, 1, 0, 1, 0, 0, 0, 1, 0, 0, 0, 0, 0, 0, 1, 1, 1, 1,\n",
              "       0, 0, 0, 0, 1, 0, 1, 1, 1, 0, 0, 0, 0, 0, 0, 0, 1, 0, 0, 0, 1, 1,\n",
              "       0, 0, 0, 0, 1, 0, 0, 0, 1, 1, 0, 1, 0, 0, 0, 0, 1, 1, 1, 1, 1, 0,\n",
              "       0, 0, 0, 0, 0, 1, 0, 0, 0, 0, 1, 0, 0, 0, 0, 0, 0, 0, 1, 1, 0, 1,\n",
              "       0, 1, 0, 0, 0, 1, 1, 1, 0, 0, 0, 0, 0, 0, 0, 0, 1, 0, 1, 0, 0, 0,\n",
              "       1, 0, 0, 1, 0, 0, 0, 0, 0, 0, 0, 0, 0, 1, 0, 1, 0, 1, 0, 1, 1, 0,\n",
              "       0, 0, 1, 0, 1, 0, 0, 1, 0, 1, 1, 0, 1, 0, 0, 1, 1, 0, 0, 1, 0, 0,\n",
              "       1, 1, 0, 0, 0, 0, 0, 0, 1, 1, 0, 1, 0, 0, 0, 0, 0, 1, 1, 0, 0, 1,\n",
              "       0, 1, 0, 0, 1, 0, 1, 0, 0, 0, 0, 0, 1, 1, 1, 1, 1, 0, 1, 0, 0, 0])"
            ]
          },
          "metadata": {
            "tags": []
          },
          "execution_count": 78
        }
      ]
    },
    {
      "cell_type": "code",
      "metadata": {
        "colab": {
          "base_uri": "https://localhost:8080/",
          "height": 201
        },
        "id": "qglNiz2IaCBG",
        "outputId": "c403ce50-5c39-4d58-8ee3-dab6a3519b6e"
      },
      "source": [
        "predictions = []\n",
        "UserId = data_test.iloc[:, 0].values\n",
        "\n",
        "for x in range(len(prediction)):\n",
        "  predictions.append([UserId[x], prediction[x]])\n",
        "\n",
        "predictions = pd.DataFrame(predictions)\n",
        "\n",
        "predictions.head()"
      ],
      "execution_count": null,
      "outputs": [
        {
          "output_type": "execute_result",
          "data": {
            "text/html": [
              "<div>\n",
              "<style scoped>\n",
              "    .dataframe tbody tr th:only-of-type {\n",
              "        vertical-align: middle;\n",
              "    }\n",
              "\n",
              "    .dataframe tbody tr th {\n",
              "        vertical-align: top;\n",
              "    }\n",
              "\n",
              "    .dataframe thead th {\n",
              "        text-align: right;\n",
              "    }\n",
              "</style>\n",
              "<table border=\"1\" class=\"dataframe\">\n",
              "  <thead>\n",
              "    <tr style=\"text-align: right;\">\n",
              "      <th></th>\n",
              "      <th>0</th>\n",
              "      <th>1</th>\n",
              "    </tr>\n",
              "  </thead>\n",
              "  <tbody>\n",
              "    <tr>\n",
              "      <th>0</th>\n",
              "      <td>892</td>\n",
              "      <td>0</td>\n",
              "    </tr>\n",
              "    <tr>\n",
              "      <th>1</th>\n",
              "      <td>893</td>\n",
              "      <td>1</td>\n",
              "    </tr>\n",
              "    <tr>\n",
              "      <th>2</th>\n",
              "      <td>894</td>\n",
              "      <td>0</td>\n",
              "    </tr>\n",
              "    <tr>\n",
              "      <th>3</th>\n",
              "      <td>895</td>\n",
              "      <td>0</td>\n",
              "    </tr>\n",
              "    <tr>\n",
              "      <th>4</th>\n",
              "      <td>896</td>\n",
              "      <td>1</td>\n",
              "    </tr>\n",
              "  </tbody>\n",
              "</table>\n",
              "</div>"
            ],
            "text/plain": [
              "     0  1\n",
              "0  892  0\n",
              "1  893  1\n",
              "2  894  0\n",
              "3  895  0\n",
              "4  896  1"
            ]
          },
          "metadata": {
            "tags": []
          },
          "execution_count": 79
        }
      ]
    },
    {
      "cell_type": "code",
      "metadata": {
        "id": "x1IP6D4LdLhg"
      },
      "source": [
        "predictions.columns = [\"PassengerId\", \"Survived\"]"
      ],
      "execution_count": null,
      "outputs": []
    },
    {
      "cell_type": "code",
      "metadata": {
        "id": "k3IuGXHDdEAI"
      },
      "source": [
        "predictions.to_csv(\"output_new.csv\", index = False)"
      ],
      "execution_count": null,
      "outputs": []
    }
  ]
}